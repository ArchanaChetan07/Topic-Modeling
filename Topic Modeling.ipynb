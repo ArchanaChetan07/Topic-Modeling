{
 "cells": [
  {
   "cell_type": "markdown",
   "id": "bce2bb89",
   "metadata": {},
   "source": [
    "# ADS 509 Assignment 5.1: Topic Modeling\n",
    "\n",
    "This notebook holds Assignment 5.1 for Module 5 in ADS 509, Applied Text Mining. Work through this notebook, writing code and answering questions where required. \n",
    "\n",
    "In this assignment you will work with a categorical corpus that accompanies `nltk`. You will build the three types of topic models described in Chapter 8 of _Blueprints for Text Analytics using Python_: NMF, LSA, and LDA. You will compare these models to the true categories. \n"
   ]
  },
  {
   "cell_type": "markdown",
   "id": "d87e2c06",
   "metadata": {},
   "source": [
    "## General Assignment Instructions\n",
    "\n",
    "These instructions are included in every assignment, to remind you of the coding standards for the class. Feel free to delete this cell after reading it. \n",
    "\n",
    "One sign of mature code is conforming to a style guide. We recommend the [Google Python Style Guide](https://google.github.io/styleguide/pyguide.html). If you use a different style guide, please include a cell with a link. \n",
    "\n",
    "Your code should be relatively easy-to-read, sensibly commented, and clean. Writing code is a messy process, so please be sure to edit your final submission. Remove any cells that are not needed or parts of cells that contain unnecessary code. Remove inessential `import` statements and make sure that all such statements are moved into the designated cell. \n",
    "\n",
    "Make use of non-code cells for written commentary. These cells should be grammatical and clearly written. In some of these cells you will have questions to answer. The questions will be marked by a \"Q:\" and will have a corresponding \"A:\" spot for you. *Make sure to answer every question marked with a `Q:` for full credit.* \n"
   ]
  },
  {
   "cell_type": "code",
   "execution_count": 2,
   "id": "a85bce08",
   "metadata": {},
   "outputs": [
    {
     "name": "stderr",
     "output_type": "stream",
     "text": [
      "c:\\Users\\archa\\Desktop\\assignment5\\assignment5\\Lib\\site-packages\\spacy\\cli\\_util.py:23: DeprecationWarning: Importing 'parser.split_arg_string' is deprecated, it will only be available in 'shell_completion' in Click 9.0.\n",
      "  from click.parser import split_arg_string\n",
      "c:\\Users\\archa\\Desktop\\assignment5\\assignment5\\Lib\\site-packages\\weasel\\util\\config.py:8: DeprecationWarning: Importing 'parser.split_arg_string' is deprecated, it will only be available in 'shell_completion' in Click 9.0.\n",
      "  from click.parser import split_arg_string\n"
     ]
    }
   ],
   "source": [
    "# These libraries may be useful to you\n",
    "\n",
    "#!pip install pyLDAvis==3.4.1 --user  #You need to restart the Kernel after installation.\n",
    "# You also need a Python version => 3.9.0\n",
    "from nltk.corpus import brown\n",
    "\n",
    "import numpy as np\n",
    "import pandas as pd\n",
    "from tqdm.auto import tqdm\n",
    "\n",
    "import pyLDAvis\n",
    "import pyLDAvis.lda_model\n",
    "import pyLDAvis.gensim_models\n",
    "\n",
    "import spacy\n",
    "from sklearn.feature_extraction.text import TfidfVectorizer, CountVectorizer\n",
    "from sklearn.decomposition import NMF, TruncatedSVD, LatentDirichletAllocation\n",
    "\n",
    "from spacy.lang.en.stop_words import STOP_WORDS as stopwords\n",
    "\n",
    "from collections import Counter, defaultdict\n",
    "\n",
    "nlp = spacy.load('en_core_web_sm')"
   ]
  },
  {
   "cell_type": "code",
   "execution_count": null,
   "id": "a218df60",
   "metadata": {},
   "outputs": [],
   "source": [
    "# add any additional libaries you need here\n",
    "from sklearn.decomposition import NMF\n",
    "from pyLDAvis import prepare\n",
    "from sklearn import config_context"
   ]
  },
  {
   "cell_type": "code",
   "execution_count": 3,
   "id": "494de237",
   "metadata": {},
   "outputs": [],
   "source": [
    "# This function comes from the BTAP repo.\n",
    "\n",
    "def display_topics(model, features, no_top_words=5):\n",
    "    for topic, words in enumerate(model.components_):\n",
    "        total = words.sum()\n",
    "        largest = words.argsort()[::-1] # invert sort order\n",
    "        print(\"\\nTopic %02d\" % topic)\n",
    "        for i in range(0, no_top_words):\n",
    "            print(\"  %s (%2.2f)\" % (features[largest[i]], abs(words[largest[i]]*100.0/total)))"
   ]
  },
  {
   "cell_type": "markdown",
   "id": "a30a901c",
   "metadata": {},
   "source": [
    "## Getting to Know the Brown Corpus\n",
    "\n",
    "Let's spend a bit of time getting to know what's in the Brown corpus, our NLTK example of an \"overlapping\" corpus."
   ]
  },
  {
   "cell_type": "code",
   "execution_count": 4,
   "id": "457c59ed",
   "metadata": {},
   "outputs": [
    {
     "name": "stdout",
     "output_type": "stream",
     "text": [
      "For adventure we have 29 articles.\n",
      "For belles_lettres we have 75 articles.\n",
      "For editorial we have 27 articles.\n",
      "For fiction we have 29 articles.\n",
      "For government we have 30 articles.\n",
      "For hobbies we have 36 articles.\n",
      "For humor we have 9 articles.\n",
      "For learned we have 80 articles.\n",
      "For lore we have 48 articles.\n",
      "For mystery we have 24 articles.\n",
      "For news we have 44 articles.\n",
      "For religion we have 17 articles.\n",
      "For reviews we have 17 articles.\n",
      "For romance we have 29 articles.\n",
      "For science_fiction we have 6 articles.\n"
     ]
    }
   ],
   "source": [
    "# categories of articles in Brown corpus\n",
    "for category in brown.categories() :\n",
    "    print(f\"For {category} we have {len(brown.fileids(categories=category))} articles.\")"
   ]
  },
  {
   "cell_type": "markdown",
   "id": "23fb133c",
   "metadata": {},
   "source": [
    "Let's create a dataframe of the articles in of hobbies, editorial, government, news, and romance."
   ]
  },
  {
   "cell_type": "code",
   "execution_count": 5,
   "id": "18f50b9d",
   "metadata": {},
   "outputs": [
    {
     "data": {
      "text/plain": [
       "(166, 3)"
      ]
     },
     "execution_count": 5,
     "metadata": {},
     "output_type": "execute_result"
    }
   ],
   "source": [
    "categories = ['editorial','government','news','romance','hobbies'] \n",
    "\n",
    "category_list = []\n",
    "file_ids = []\n",
    "texts = []\n",
    "\n",
    "for category in categories : \n",
    "    for file_id in brown.fileids(categories=category) :\n",
    "        \n",
    "        # build some lists for a dataframe\n",
    "        category_list.append(category)\n",
    "        file_ids.append(file_id)\n",
    "        \n",
    "        text = brown.words(fileids=file_id)\n",
    "        texts.append(\" \".join(text))\n",
    "\n",
    "        \n",
    "        \n",
    "df = pd.DataFrame()\n",
    "df['category'] = category_list\n",
    "df['id'] = file_ids\n",
    "df['text'] = texts \n",
    "\n",
    "df.shape"
   ]
  },
  {
   "cell_type": "code",
   "execution_count": 6,
   "id": "586f47de",
   "metadata": {},
   "outputs": [],
   "source": [
    "# Let's add some helpful columns on the df\n",
    "df['char_len'] = df['text'].apply(len)\n",
    "df['word_len'] = df['text'].apply(lambda x: len(x.split()))\n"
   ]
  },
  {
   "cell_type": "code",
   "execution_count": 7,
   "id": "2128fd2d",
   "metadata": {},
   "outputs": [
    {
     "data": {
      "text/plain": [
       "<Axes: xlabel='category'>"
      ]
     },
     "execution_count": 7,
     "metadata": {},
     "output_type": "execute_result"
    },
    {
     "data": {
      "image/png": "[encoded data removed]",
      "text/plain": [
       "<Figure size 1000x600 with 1 Axes>"
      ]
     },
     "metadata": {},
     "output_type": "display_data"
    }
   ],
   "source": [
    "%matplotlib inline\n",
    "df.groupby('category').agg({'word_len': 'mean'}).plot.bar(figsize=(10,6))"
   ]
  },
  {
   "cell_type": "markdown",
   "id": "554ffeb5",
   "metadata": {},
   "source": [
    "Now do our TF-IDF and Count vectorizations."
   ]
  },
  {
   "cell_type": "code",
   "execution_count": 8,
   "id": "21a7d247",
   "metadata": {},
   "outputs": [
    {
     "name": "stderr",
     "output_type": "stream",
     "text": [
      "c:\\Users\\archa\\Desktop\\assignment5\\assignment5\\Lib\\site-packages\\sklearn\\feature_extraction\\text.py:402: UserWarning: Your stop_words may be inconsistent with your preprocessing. Tokenizing the stop words generated tokens ['ll', 've'] not in stop_words.\n",
      "  warnings.warn(\n"
     ]
    },
    {
     "data": {
      "text/plain": [
       "(166, 4941)"
      ]
     },
     "execution_count": 8,
     "metadata": {},
     "output_type": "execute_result"
    }
   ],
   "source": [
    "count_text_vectorizer = CountVectorizer(stop_words=list(stopwords), min_df=5, max_df=0.7)\n",
    "count_text_vectors = count_text_vectorizer.fit_transform(df[\"text\"])\n",
    "count_text_vectors.shape"
   ]
  },
  {
   "cell_type": "code",
   "execution_count": 9,
   "id": "875deba9",
   "metadata": {},
   "outputs": [
    {
     "data": {
      "text/plain": [
       "(166, 4941)"
      ]
     },
     "execution_count": 9,
     "metadata": {},
     "output_type": "execute_result"
    }
   ],
   "source": [
    "tfidf_text_vectorizer = TfidfVectorizer(stop_words=list(stopwords), min_df=5, max_df=0.7)\n",
    "tfidf_text_vectors = tfidf_text_vectorizer.fit_transform(df['text'])\n",
    "tfidf_text_vectors.shape"
   ]
  },
  {
   "cell_type": "markdown",
   "id": "a1062b21",
   "metadata": {},
   "source": [
    "Q: What do the two data frames `count_text_vectors` and `tfidf_text_vectors` hold? \n",
    "\n",
    "A: count_text_vectors holds a matrix of raw word counts for each document, representing how often each term appears. tfidf_text_vectors stores TF-IDF scores, which reflect a term’s importance by balancing its frequency in a document with its rarity across all documents. Both matrices have the same shape: 166 documents by 4941 terms. The vectorizers filter out common stopwords and ignore words that are too rare or too frequent, ensuring only meaningful terms are included for effective topic modeling and analysis."
   ]
  },
  {
   "cell_type": "markdown",
   "id": "f77c3f94",
   "metadata": {},
   "source": [
    "## Fitting a Non-Negative Matrix Factorization Model\n",
    "\n",
    "In this section the code to fit a five-topic NMF model has already been written. This code comes directly from the [BTAP repo](https://github.com/blueprints-for-text-analytics-python/blueprints-text), which will help you tremendously in the coming sections. "
   ]
  },
  {
   "cell_type": "code",
   "execution_count": 10,
   "id": "d28745a3",
   "metadata": {},
   "outputs": [],
   "source": [
    "nmf_text_model = NMF(n_components=5, random_state=314)\n",
    "W_text_matrix = nmf_text_model.fit_transform(tfidf_text_vectors)\n",
    "H_text_matrix = nmf_text_model.components_"
   ]
  },
  {
   "cell_type": "code",
   "execution_count": 11,
   "id": "a67185e7",
   "metadata": {},
   "outputs": [
    {
     "name": "stdout",
     "output_type": "stream",
     "text": [
      "\n",
      "Topic 00\n",
      "  mr (0.51)\n",
      "  president (0.45)\n",
      "  kennedy (0.43)\n",
      "  united (0.42)\n",
      "  khrushchev (0.40)\n",
      "\n",
      "Topic 01\n",
      "  said (0.88)\n",
      "  didn (0.46)\n",
      "  ll (0.45)\n",
      "  thought (0.42)\n",
      "  man (0.37)\n",
      "\n",
      "Topic 02\n",
      "  state (0.39)\n",
      "  development (0.36)\n",
      "  tax (0.33)\n",
      "  sales (0.30)\n",
      "  program (0.25)\n",
      "\n",
      "Topic 03\n",
      "  mrs (2.61)\n",
      "  mr (0.78)\n",
      "  said (0.63)\n",
      "  miss (0.52)\n",
      "  car (0.51)\n",
      "\n",
      "Topic 04\n",
      "  game (1.02)\n",
      "  league (0.74)\n",
      "  ball (0.72)\n",
      "  baseball (0.71)\n",
      "  team (0.66)\n"
     ]
    }
   ],
   "source": [
    "display_topics(nmf_text_model, tfidf_text_vectorizer.get_feature_names_out())"
   ]
  },
  {
   "cell_type": "markdown",
   "id": "fee51e9b",
   "metadata": {},
   "source": [
    "Now some work for you to do. Compare the NMF factorization to the original categories from the Brown Corpus.\n",
    "\n",
    "We are interested in the extent to which our NMF factorization agrees or disagrees with the original categories in the corpus. For each topic in your NMF model, tally the Brown categories and interpret the results. \n"
   ]
  },
  {
   "cell_type": "code",
   "execution_count": null,
   "id": "7c8c8eb0",
   "metadata": {},
   "outputs": [
    {
     "name": "stdout",
     "output_type": "stream",
     "text": [
      "\n",
      "Topic 9\n",
      "  news           : 11 docs\n",
      "  editorial      : 4 docs\n",
      "  lore           : 2 docs\n",
      "  hobbies        : 1 docs\n",
      "\n",
      "Topic 0\n",
      "  news           : 15 docs\n",
      "  religion       : 4 docs\n",
      "  editorial      : 1 docs\n",
      "\n",
      "Topic 1\n",
      "  hobbies        : 24 docs\n",
      "  religion       : 4 docs\n",
      "  news           : 2 docs\n",
      "\n",
      "Topic 5\n",
      "  lore           : 6 docs\n",
      "  news           : 4 docs\n",
      "  hobbies        : 4 docs\n",
      "  religion       : 3 docs\n",
      "  reviews        : 1 docs\n",
      "\n",
      "Topic 8\n",
      "  editorial      : 8 docs\n",
      "  reviews        : 7 docs\n",
      "  news           : 3 docs\n",
      "\n",
      "Topic 6\n",
      "  editorial      : 5 docs\n",
      "  news           : 4 docs\n",
      "  religion       : 2 docs\n",
      "  lore           : 2 docs\n",
      "  reviews        : 1 docs\n",
      "\n",
      "Topic 7\n",
      "  editorial      : 5 docs\n",
      "  lore           : 4 docs\n",
      "  news           : 3 docs\n",
      "  reviews        : 3 docs\n",
      "  religion       : 2 docs\n",
      "\n",
      "Topic 2\n",
      "  lore           : 11 docs\n",
      "  hobbies        : 5 docs\n",
      "  news           : 2 docs\n",
      "\n",
      "Topic 4\n",
      "  editorial      : 4 docs\n",
      "  religion       : 2 docs\n",
      "  reviews        : 1 docs\n",
      "\n",
      "Topic 3\n",
      "  reviews        : 4 docs\n",
      "  hobbies        : 1 docs\n"
     ]
    }
   ],
   "source": [
    "# Your code here\n",
    "# Prepare labels\n",
    "fileids = brown.fileids()\n",
    "brown_labels = [brown.categories(fileid)[0] for fileid in fileids]\n",
    "\n",
    "# Fit NMF model\n",
    "nmf_model = NMF(n_components=10, random_state=42)\n",
    "nmf_model.fit(tfidf_text_vectors)\n",
    "\n",
    "# Assign dominant topic\n",
    "topic_assignments = nmf_model.transform(tfidf_text_vectors).argmax(axis=1)\n",
    "\n",
    "# Tally categories\n",
    "topic_category_counts = defaultdict(Counter)\n",
    "for topic_idx, category in zip(topic_assignments, brown_labels):\n",
    "    topic_category_counts[topic_idx][category] += 1\n",
    "\n",
    "# Print results\n",
    "for topic, counter in topic_category_counts.items():\n",
    "    print(f\"\\nTopic {topic}\")\n",
    "    for category, count in counter.most_common(5):\n",
    "        print(f\"  {category:15s}: {count} docs\")\n"
   ]
  },
  {
   "cell_type": "markdown",
   "id": "f8d4e2bc",
   "metadata": {},
   "source": [
    "Q: How does your five-topic NMF model compare to the original Brown categories? \n",
    "\n",
    "A: The five-topic NMF model offers a more flexible, data-driven grouping compared to the original Brown categories, which are manually labeled and mutually exclusive. While the Brown corpus assigns each document to a single category like news, hobbies, or religion, the NMF model identifies latent themes based on word co-occurrence patterns across documents. This results in topics that may overlap categories, for example, a single topic containing documents from both religion and news. The NMF model captures nuanced, real-world language patterns, revealing thematic similarity rather than rigid classification. It’s useful for exploratory analysis and uncovering hidden relationships within large text corpora."
   ]
  },
  {
   "cell_type": "markdown",
   "id": "82e37cb5",
   "metadata": {},
   "source": [
    "## Fitting an LSA Model\n",
    "\n",
    "In this section, follow the example from the repository and fit an LSA model (called a \"TruncatedSVD\" in `sklearn`). Again fit a five-topic model and compare it to the actual categories in the Brown corpus. Use the TF-IDF vectors for your fit, as above. \n",
    "\n",
    "To be explicit, we are once again interested in the extent to which this LSA factorization agrees or disagrees with the original categories in the corpus. For each topic in your model, tally the Brown categories and interpret the results. \n"
   ]
  },
  {
   "cell_type": "code",
   "execution_count": null,
   "id": "00b53d3d",
   "metadata": {},
   "outputs": [
    {
     "name": "stdout",
     "output_type": "stream",
     "text": [
      "\n",
      "Topic 0\n",
      "  news           : 44 docs\n",
      "  hobbies        : 28 docs\n",
      "  lore           : 25 docs\n",
      "  editorial      : 23 docs\n",
      "  religion       : 15 docs\n",
      "\n",
      "Topic 4\n",
      "  editorial      : 4 docs\n",
      "  religion       : 2 docs\n",
      "  reviews        : 1 docs\n",
      "\n",
      "Topic 3\n",
      "  reviews        : 3 docs\n",
      "\n",
      "Topic 1\n",
      "  hobbies        : 8 docs\n"
     ]
    }
   ],
   "source": [
    "\n",
    "# Step 1: Fit LSA model\n",
    "lsa_model = TruncatedSVD(n_components=5, random_state=42)\n",
    "lsa_topics = lsa_model.fit_transform(tfidf_text_vectors)\n",
    "\n",
    "# Step 2: Assign dominant topic for each document\n",
    "lsa_topic_assignments = lsa_topics.argmax(axis=1)\n",
    "\n",
    "# Step 3: Tally Brown categories per topic\n",
    "lsa_topic_category_counts = defaultdict(Counter)\n",
    "\n",
    "for topic_idx, category in zip(lsa_topic_assignments, brown_labels):\n",
    "    lsa_topic_category_counts[topic_idx][category] += 1\n",
    "\n",
    "# Step 4: Display the results\n",
    "for topic, counter in lsa_topic_category_counts.items():\n",
    "    print(f\"\\nTopic {topic}\")\n",
    "    for category, count in counter.most_common(5):\n",
    "        print(f\"  {category:15s}: {count} docs\")\n"
   ]
  },
  {
   "cell_type": "markdown",
   "id": "4d94d56f",
   "metadata": {},
   "source": [
    "Q: How does your five-topic LSA model compare to the original Brown categories? \n",
    "\n",
    "A: The five-topic LSA (Latent Semantic Analysis) model captures broad, overlapping semantic structures rather than distinct categories like those in the Brown corpus. For example, Topic 0 includes documents from news, hobbies, lore, editorial, and religion, showing significant blending. Unlike the Brown categories, which assign a single label per document, LSA clusters documents based on latent patterns in word usage, resulting in fuzzier but more context-aware groupings. This reflects how topics often intersect in real-world language. Therefore, while LSA is less precise for classification, it excels at revealing underlying themes and relationships among documents that span multiple categories."
   ]
  },
  {
   "cell_type": "code",
   "execution_count": 20,
   "id": "377a886e",
   "metadata": {},
   "outputs": [
    {
     "name": "stdout",
     "output_type": "stream",
     "text": [
      "\n",
      "--- Top Words in NMF Topics ---\n",
      "\n",
      "Topic 00\n",
      "  khrushchev (0.4435)\n",
      "          mr (0.4250)\n",
      "      berlin (0.3893)\n",
      "     kennedy (0.3746)\n",
      "      soviet (0.3519)\n",
      "\n",
      "Topic 01\n",
      "        said (0.4133)\n",
      "        didn (0.2236)\n",
      "          ll (0.2164)\n",
      "     thought (0.1978)\n",
      "         man (0.1614)\n",
      "\n",
      "Topic 02\n",
      "          af (0.3256)\n",
      "        inch (0.2898)\n",
      "       drill (0.2252)\n",
      "        clay (0.1709)\n",
      "      pieces (0.1646)\n",
      "\n",
      "Topic 03\n",
      "         mrs (1.2763)\n",
      "          mr (0.3043)\n",
      "        miss (0.2535)\n",
      "          jr (0.1999)\n",
      "       bride (0.1636)\n",
      "\n",
      "Topic 04\n",
      "        game (0.3620)\n",
      "      league (0.2633)\n",
      "        ball (0.2618)\n",
      "    baseball (0.2552)\n",
      "        team (0.2352)\n",
      "\n",
      "Topic 05\n",
      "       music (0.2327)\n",
      "       color (0.1473)\n",
      "         art (0.1364)\n",
      "         old (0.1344)\n",
      "     musical (0.1337)\n",
      "\n",
      "Topic 06\n",
      "     faculty (0.3790)\n",
      "     college (0.2733)\n",
      "    catholic (0.2081)\n",
      "  university (0.1976)\n",
      "     student (0.1934)\n",
      "\n",
      "Topic 07\n",
      "       sales (0.2742)\n",
      "        1960 (0.1901)\n",
      "     billion (0.1869)\n",
      "   equipment (0.1801)\n",
      "   marketing (0.1697)\n",
      "\n",
      "Topic 08\n",
      "        said (0.5192)\n",
      "        jury (0.2342)\n",
      "      county (0.1727)\n",
      "       state (0.1708)\n",
      "       board (0.1669)\n",
      "\n",
      "Topic 09\n",
      "       state (0.3818)\n",
      "      states (0.2478)\n",
      "       shall (0.2345)\n",
      "      united (0.2110)\n",
      "       rhode (0.2028)\n",
      "\n",
      "--- Top Words in LSA Topics ---\n",
      "\n",
      "Topic 00\n",
      "        said (0.2240)\n",
      "          mr (0.1261)\n",
      "         mrs (0.1115)\n",
      "       state (0.1028)\n",
      "         man (0.0850)\n",
      "\n",
      "Topic 01\n",
      "        said (0.1902)\n",
      "          ll (0.1335)\n",
      "        didn (0.1286)\n",
      "     thought (0.1076)\n",
      "         got (0.0965)\n",
      "\n",
      "Topic 02\n",
      "         mrs (0.3633)\n",
      "          mr (0.2001)\n",
      "        said (0.1211)\n",
      "     kennedy (0.0936)\n",
      "   president (0.0896)\n",
      "\n",
      "Topic 03\n",
      "         mrs (0.4256)\n",
      "        club (0.0938)\n",
      "        game (0.0896)\n",
      "          jr (0.0813)\n",
      "      dallas (0.0770)\n",
      "\n",
      "Topic 04\n",
      "        game (0.2309)\n",
      "      league (0.1646)\n",
      "    baseball (0.1628)\n",
      "        ball (0.1564)\n",
      "        team (0.1499)\n"
     ]
    }
   ],
   "source": [
    "# Define the display_topics function\n",
    "def display_topics(model, feature_names, no_top_words=5):\n",
    "    for topic_idx, topic in enumerate(model.components_):\n",
    "        print(f\"\\nTopic {topic_idx:02d}\")\n",
    "        top_indices = topic.argsort()[::-1][:no_top_words]\n",
    "        for i in top_indices:\n",
    "            print(f\"  {feature_names[i]:>10s} ({topic[i]:.4f})\")\n",
    "\n",
    "# Call on NMF Model\n",
    "print(\"\\n--- Top Words in NMF Topics ---\")\n",
    "display_topics(nmf_model, tfidf_text_vectorizer.get_feature_names_out(), no_top_words=5)\n",
    "\n",
    "# Call on LSA Model\n",
    "print(\"\\n--- Top Words in LSA Topics ---\")\n",
    "display_topics(lsa_model, tfidf_text_vectorizer.get_feature_names_out(), no_top_words=5)\n",
    "\n"
   ]
  },
  {
   "cell_type": "markdown",
   "id": "ea8b280a",
   "metadata": {},
   "source": [
    "Q: What is your interpretation of the display topics output? \n",
    "\n",
    "A: The display topics output from the NMF model reveals the top words contributing to each latent topic, offering insight into their underlying themes:\\\n",
    "\n",
    "Topic 00: Includes terms like khrushchev, berlin, and soviet, suggesting a Cold War or political history theme.\n",
    "\n",
    "Topic 01: Words like said, didn’t, thought are conversational, indicating narrative or dialogue-heavy text.\n",
    "\n",
    "Topic 02: Words such as drill, clay, pieces imply a technical or manufacturing context.\n",
    "\n",
    "Topic 03: With baseball, league, and team, this topic clearly relates to sports.\n",
    "\n",
    "Each topic captures a coherent theme derived from word co-occurrence patterns.\n"
   ]
  },
  {
   "cell_type": "markdown",
   "id": "b4ab4d29",
   "metadata": {},
   "source": [
    "## Fitting an LDA Model\n",
    "\n",
    "Finally, fit a five-topic LDA model using the count vectors (`count_text_vectors` from above). Display the results using `pyLDAvis.display` and describe what you learn from that visualization. "
   ]
  },
  {
   "cell_type": "code",
   "execution_count": null,
   "id": "802cb8ff",
   "metadata": {},
   "outputs": [
    {
     "name": "stdout",
     "output_type": "stream",
     "text": [
      "\n",
      "Topic 00\n",
      "        clay (151.0596)\n",
      "        good (139.0909)\n",
      "        said (135.5912)\n",
      "       right (127.5817)\n",
      "       place (120.8433)\n",
      "\n",
      "Topic 01\n",
      "        feed (185.3229)\n",
      "         use (182.6568)\n",
      "        work (161.7377)\n",
      "       water (157.0737)\n",
      "        area (141.6069)\n",
      "\n",
      "Topic 02\n",
      "        said (273.3998)\n",
      "          mr (193.8253)\n",
      "       state (155.6585)\n",
      "   president (153.4772)\n",
      "         mrs (142.1041)\n",
      "\n",
      "Topic 03\n",
      "    property (34.7511)\n",
      "    business (34.3773)\n",
      "        john (29.4186)\n",
      "       board (27.8400)\n",
      "    stations (19.2217)\n",
      "\n",
      "Topic 04\n",
      "        said (92.6298)\n",
      "      states (71.2197)\n",
      "      united (56.7994)\n",
      "       shall (49.9721)\n",
      "       state (40.2766)\n"
     ]
    },
    {
     "data": {
      "text/html": [
       "\n",
       "<link rel=\"stylesheet\" type=\"text/css\" href=\"https://cdn.jsdelivr.net/gh/bmabey/pyLDAvis@3.4.0/pyLDAvis/js/ldavis.v1.0.0.css\">\n",
       "\n",
       "\n",
       "<div id=\"ldavis_el3598015942905222564505292027\" style=\"background-color:white;\"></div>\n",
       "<script type=\"text/javascript\">\n",
       "\n",
       "var ldavis_el3598015942905222564505292027_data = {\"mdsDat\": {\"x\": [0.06126415004707664, -0.010052664887680541, -0.15177990601908206, 0.022653242504756803, 0.07791517835492905], \"y\": [-0.02209468778382491, -0.11308817776331499, 0.019292183210769673, 0.10648745153292218, 0.009403230803448116], \"topics\": [1, 2, 3, 4, 5], \"cluster\": [1, 1, 1, 1, 1], \"Freq\": [43.47110121805417, 22.831563889817723, 20.213961444852785, 10.33647685904905, 3.146896588226268]}, \"tinfo\": {\"Term\": [\"said\", \"business\", \"states\", \"john\", \"board\", \"united\", \"government\", \"property\", \"department\", \"state\", \"tax\", \"small\", \"clay\", \"shall\", \"local\", \"act\", \"service\", \"report\", \"general\", \"mr\", \"president\", \"meeting\", \"class\", \"administration\", \"feed\", \"stations\", \"thought\", \"anti\", \"man\", \"law\", \"nuclear\", \"missile\", \"aircraft\", \"weapons\", \"missiles\", \"strategic\", \"billion\", \"marketing\", \"congo\", \"enemy\", \"destroy\", \"republican\", \"police\", \"communist\", \"selling\", \"hughes\", \"william\", \"castro\", \"laos\", \"mobile\", \"sen\", \"communists\", \"democratic\", \"cuba\", \"georgia\", \"election\", \"republicans\", \"committee\", \"aug\", \"communism\", \"kennedy\", \"military\", \"political\", \"soviet\", \"nations\", \"berlin\", \"president\", \"governor\", \"mr\", \"sales\", \"mrs\", \"peace\", \"corps\", \"million\", \"defense\", \"county\", \"council\", \"said\", \"war\", \"administration\", \"city\", \"members\", \"000\", \"state\", \"government\", \"program\", \"people\", \"american\", \"public\", \"force\", \"united\", \"school\", \"world\", \"today\", \"states\", \"service\", \"national\", \"general\", \"week\", \"man\", \"house\", \"interior\", \"recreation\", \"pool\", \"musical\", \"economical\", \"designer\", \"designers\", \"cattle\", \"feed\", \"site\", \"gear\", \"chamber\", \"fishing\", \"temperature\", \"engineers\", \"lighting\", \"forests\", \"electricity\", \"possibilities\", \"employee\", \"values\", \"tools\", \"panels\", \"installation\", \"bridge\", \"attractions\", \"insurance\", \"quantity\", \"academic\", \"rust\", \"vacation\", \"chemical\", \"builder\", \"materials\", \"cooling\", \"features\", \"heating\", \"lumber\", \"art\", \"technical\", \"volume\", \"daily\", \"available\", \"music\", \"area\", \"water\", \"cost\", \"areas\", \"design\", \"use\", \"sign\", \"work\", \"number\", \"level\", \"plant\", \"system\", \"development\", \"large\", \"af\", \"good\", \"provide\", \"day\", \"important\", \"state\", \"way\", \"house\", \"national\", \"high\", \"interest\", \"possible\", \"000\", \"program\", \"men\", \"small\", \"leg\", \"pieces\", \"player\", \"clay\", \"vernon\", \"bowl\", \"cloth\", \"fig\", \"smooth\", \"cup\", \"cream\", \"palace\", \"yards\", \"frame\", \"blocks\", \"bench\", \"gate\", \"thickness\", \"frames\", \"slip\", \"trim\", \"lock\", \"scored\", \"hole\", \"baseball\", \"muscle\", \"holes\", \"muscles\", \"knight\", \"bar\", \"sugar\", \"bars\", \"edges\", \"36\", \"drill\", \"inch\", \"class\", \"signal\", \"exercise\", \"push\", \"salt\", \"piece\", \"junior\", \"dog\", \"inside\", \"room\", \"left\", \"cut\", \"ll\", \"right\", \"sides\", \"place\", \"good\", \"don\", \"press\", \"little\", \"set\", \"green\", \"center\", \"way\", \"12\", \"said\", \"half\", \"best\", \"came\", \"work\", \"got\", \"head\", \"use\", \"old\", \"home\", \"small\", \"puerto\", \"rico\", \"loved\", \"rehabilitation\", \"lips\", \"thereof\", \"anger\", \"stared\", \"alexander\", \"funny\", \"commodities\", \"laughing\", \"cried\", \"india\", \"provisions\", \"smile\", \"tractor\", \"dirty\", \"cousin\", \"chapter\", \"gross\", \"filing\", \"alaska\", \"shouted\", \"dignity\", \"islands\", \"susan\", \"japanese\", \"heaven\", \"treasury\", \"authorized\", \"shall\", \"payments\", \"payment\", \"import\", \"love\", \"woman\", \"motors\", \"wasn\", \"knew\", \"agreement\", \"eyes\", \"income\", \"sam\", \"states\", \"god\", \"mother\", \"act\", \"didn\", \"rayburn\", \"united\", \"said\", \"thought\", \"return\", \"section\", \"young\", \"man\", \"looked\", \"government\", \"felt\", \"title\", \"state\", \"went\", \"secretary\", \"know\", \"day\", \"little\", \"come\", \"tax\", \"asked\", \"came\", \"old\", \"people\", \"assessment\", \"interference\", \"tangible\", \"recommendation\", \"property\", \"bargaining\", \"collective\", \"stations\", \"foundation\", \"dave\", \"discontinued\", \"assignments\", \"loans\", \"taxation\", \"catastrophe\", \"denied\", \"hearing\", \"1952\", \"44\", \"allocation\", \"cooperative\", \"furnished\", \"trust\", \"concerns\", \"employers\", \"appeal\", \"nineteen\", \"1938\", \"proceedings\", \"ashamed\", \"unions\", \"personal\", \"boats\", \"anne\", \"officer\", \"justice\", \"poor\", \"anti\", \"john\", \"business\", \"board\", \"laws\", \"report\", \"local\", \"credit\", \"department\", \"small\", \"meeting\", \"hours\", \"act\", \"service\", \"tax\", \"general\", \"state\", \"said\", \"government\", \"law\"], \"Freq\": [698.0, 170.0, 305.0, 137.0, 150.0, 277.0, 256.0, 71.0, 142.0, 403.0, 155.0, 210.0, 137.0, 120.0, 107.0, 120.0, 181.0, 74.0, 199.0, 368.0, 275.0, 92.0, 115.0, 117.0, 135.0, 42.0, 133.0, 49.0, 248.0, 91.0, 120.58073715382773, 83.66244270715457, 137.87021832411511, 61.421514233557964, 49.36300786947571, 35.411430822067096, 51.20672897302906, 107.01876033534553, 38.88511559780085, 27.053736592158234, 57.03841553910278, 35.0805180290245, 40.35415762060202, 63.83899979792846, 33.20680457119396, 22.23283235861549, 108.33026614068037, 26.362457035084688, 43.32997268187447, 38.316057599347765, 26.010570797680874, 21.18245607157174, 52.742302075734116, 32.62226010570655, 36.263420561962235, 47.87926366137256, 17.766556489252753, 93.304810915792, 20.119682257432352, 24.97251220910491, 111.01746672194909, 126.21220918910464, 75.0226299981523, 70.07627087820313, 66.4425275361683, 55.733200067267205, 236.37973515289016, 46.10801845117152, 298.5223714883634, 131.85848272425855, 218.8633196293575, 88.29034104185914, 60.00262920194186, 105.73350686174247, 68.70780339331091, 82.14997843978259, 60.31967052463577, 421.0800530570749, 122.94088744002312, 94.86096596453366, 146.26152466462415, 97.99190738122137, 175.93335990615606, 239.73943437855502, 168.30189892864652, 157.04505046638775, 178.63855379414858, 156.93416800924027, 127.51141554357446, 89.11424280823695, 154.49485492793522, 108.76615403349163, 142.02572180242313, 120.91209053063098, 144.15816720032686, 114.53202865962156, 117.80869170881539, 117.87733178219938, 105.93649207384074, 112.36875336276275, 106.77255426257956, 45.94510537720316, 37.23976339101566, 78.32269687060109, 20.57718229839536, 18.929000895999852, 17.563906214585295, 13.026896304790148, 25.61214694719618, 118.84970765549048, 63.09075129325269, 16.753526585888896, 29.044673718461468, 17.13178591648938, 29.215181892437684, 29.35132715642211, 9.655656053090706, 8.974679202392707, 15.012106578146758, 9.617818779685614, 25.104688009259302, 20.736791528597667, 14.075641730395862, 36.06727963235834, 10.73076853723904, 59.77511008127394, 7.306793528359584, 37.62556512113493, 12.832608991895826, 20.185754343492867, 8.90055725645467, 42.30151065917526, 30.141847099548563, 29.271710563948997, 46.60656586628004, 42.40518701721369, 27.742960698711546, 23.444275336125244, 30.668227998737272, 43.86714454139282, 47.06562187117485, 39.944505231036096, 44.277677398038904, 73.54243983449534, 43.37322653204507, 90.81414673868585, 100.73315673683516, 72.12675325470285, 63.50824992973449, 61.28738366753123, 117.13991830027214, 44.031663120770745, 103.72428053439083, 71.40352062123709, 52.747062949738265, 50.27456809588739, 62.61434345833109, 73.48818208607312, 65.41078740634917, 51.460806138512545, 88.78934762997281, 52.819783077245496, 79.60294839476443, 55.289434252201666, 81.07339596838496, 71.81404055277167, 67.33113997311145, 64.299407778133, 66.97765696445876, 55.22626017787626, 55.061288131292194, 61.33686159289968, 58.42540271423154, 55.02489771100861, 55.467209494006255, 36.57309091823755, 79.09990522769925, 24.185978572578666, 129.1864432196847, 30.744297797482506, 17.987351199277768, 23.00641462834239, 43.65223680048593, 29.55302191596019, 28.843028925942146, 18.900539003509998, 24.98016057201674, 17.14287184589876, 56.374064519187336, 15.471286128533633, 26.33263571452195, 15.841165320794273, 22.3385714386987, 31.180280422460015, 16.93670937322802, 19.763428099536736, 14.272847504963053, 13.529049518886739, 36.82256992779704, 21.16999901730255, 23.708866962839394, 28.529346295664638, 16.951144187252794, 15.850589552502948, 57.193594405082116, 20.40424050999574, 42.1751001932443, 31.909091357747467, 39.349175264578435, 46.50221099373224, 82.62827946248892, 88.94887682958347, 32.92413075712578, 35.34168713695122, 36.30424527387458, 27.156365648142398, 64.40453975496514, 65.77088682598912, 45.47524104605096, 43.05372281850968, 63.709916029539826, 98.43165322208903, 79.73169753167872, 83.28652447089851, 109.10815943419136, 48.795619680865705, 103.34540660903197, 118.95080636221637, 78.86338640081084, 47.99835005860611, 93.74249115851624, 76.2247299041755, 43.67841941030578, 52.677379108467484, 83.76807025108616, 54.567051642244266, 115.95784551930383, 57.70730966079194, 61.5136169737409, 57.699814694193904, 70.88850258919656, 55.38177231241088, 58.22905444728444, 67.59903941296406, 64.69011789752517, 64.24920925844195, 56.743457411579605, 16.362616522015028, 16.34268681592528, 14.328574854939744, 14.599165729547657, 8.386492484579364, 9.15148970389735, 7.935765947768371, 10.471764528553862, 17.382279195482635, 6.081877307390129, 11.669850333523849, 5.8949093044998335, 5.128163788557069, 24.547281849084865, 16.726830513273914, 9.232622577205678, 16.28094399970139, 3.7772961216029555, 18.922961971525602, 12.091413640697978, 14.566541911048617, 11.813634633428645, 13.549349445803252, 8.45387816124469, 7.050149681375796, 10.97562767029917, 19.219037191121924, 12.383537088178649, 6.619146461373397, 18.240091157809417, 19.163089117358755, 77.2796142745514, 23.556963450275795, 23.533236758045856, 13.50203413003842, 33.82826350585786, 27.712798424041452, 29.31872155273501, 30.736675797784475, 41.450484257792745, 33.11133631233241, 46.3151309604925, 40.32906866951806, 34.74812764013595, 110.13811014612895, 31.08783147045328, 38.042827924339626, 50.68386409074544, 42.3916972409605, 24.097605487703216, 87.83775922815278, 143.2478797183745, 50.26820641769763, 32.027487776156, 35.780706147649305, 41.54587823940119, 59.178706376523415, 30.575596869721203, 55.74129868335472, 32.056014528905166, 24.659534197884557, 62.28591740189224, 37.11568798323987, 34.148068565257724, 38.88571212959954, 43.814369749212254, 40.7694020840941, 37.036614288579514, 35.0298582676664, 32.65990370527638, 33.22983430894541, 33.567212430385474, 32.169758654751554, 8.423032519119413, 14.433738443373123, 6.735219089937089, 8.536139443610166, 36.03080776326102, 5.2525133989031785, 4.73277825460842, 19.929506463724323, 10.730415848973687, 4.9756689846735, 1.9651385504081422, 2.7972249012571244, 8.727911898693241, 3.2074227958015302, 1.8993513086435023, 5.612814665246579, 14.609341657063261, 3.2364572931654054, 1.329992809429244, 3.5693242325982095, 2.791480885786655, 3.1892143716623678, 11.434556015582485, 7.086136159116703, 2.385918080328534, 9.682920746806209, 1.4560646562713135, 1.937350893534398, 2.0281677050157043, 1.9285967058055236, 5.416648944856443, 13.116040918924199, 11.33594395166868, 7.877000436285202, 12.298485418993597, 7.208117460657959, 9.21156165150812, 12.858068299377305, 30.50192033878761, 35.64328606629936, 28.865179040579658, 10.385479300595671, 15.40294622222832, 17.66832104250704, 8.678762860176766, 17.369918707921034, 18.409729790097153, 11.70894525822925, 11.044987323316327, 12.278065978201266, 12.873631957439946, 12.286383651570784, 12.733165692714115, 11.35145503949137, 11.767115121700412, 9.778322630427702, 9.192647563475655], \"Total\": [698.0, 170.0, 305.0, 137.0, 150.0, 277.0, 256.0, 71.0, 142.0, 403.0, 155.0, 210.0, 137.0, 120.0, 107.0, 120.0, 181.0, 74.0, 199.0, 368.0, 275.0, 92.0, 115.0, 117.0, 135.0, 42.0, 133.0, 49.0, 248.0, 91.0, 122.51822692176705, 85.28220768788805, 140.7227779355209, 62.72269594867441, 50.5165036594207, 36.562502462899076, 53.04379003026376, 110.92573359233634, 40.40414985048528, 28.193721394770538, 59.55822581232849, 36.70604761380888, 42.3921743492339, 67.3296736840633, 35.06921901107277, 23.513563448645034, 114.90210361615554, 27.966946158573197, 46.0679090046644, 40.791334498773104, 27.76197982498614, 22.634216271214594, 56.35868851770446, 34.87888700159151, 38.822307769019076, 51.27859940413966, 19.057493794391586, 100.13360788053993, 21.60112471962693, 26.83129172605068, 119.60807290816909, 136.7511043224286, 81.38870397889904, 76.4524574060702, 72.62502926052893, 60.61902988062696, 275.29779248202306, 50.1764201398226, 368.3744365453554, 154.1164645626008, 271.7956487349646, 101.84705345187442, 67.04214017669344, 127.61125844143989, 79.10255836065963, 97.80712343180345, 68.01120183525452, 698.8095742729108, 159.1034872657503, 117.2850371088911, 206.89886059416872, 125.15648357589234, 269.3015676362817, 403.4525051275311, 256.48418154036784, 234.85803489660208, 282.6391666984934, 247.49984916739947, 184.44958407931807, 112.68312916632202, 277.54898187105084, 156.50464779557453, 244.19735851849995, 187.22014879073853, 305.3818945550295, 181.9389404348317, 198.39406117889854, 199.3797283045065, 164.70654751570467, 248.20102927325834, 228.49088494727533, 48.32991969515558, 39.80977706608676, 84.70094317132187, 22.454691448327246, 20.71659184072115, 19.268457222339645, 14.683439066718648, 29.145038222324242, 135.58710252310286, 72.0725088448401, 19.265730725376876, 33.557343192774866, 19.83154551539974, 33.920689758386146, 34.1154763669522, 11.262126811847546, 10.4714449486689, 17.51779241257078, 11.234947665235884, 29.392263881381503, 24.408691915420487, 16.608478667683165, 42.562619662078674, 12.698646392464134, 70.82021041156285, 8.65877756233672, 44.630907461112436, 15.248237094536009, 24.001358304921222, 10.593896446923834, 50.64086295907806, 36.4618898682318, 35.69374759081502, 57.69262677041374, 53.044430993834574, 33.9672405804782, 29.25911993334431, 39.370528412903596, 59.212936150173746, 65.43761808845956, 54.44802796086264, 61.926322741718984, 115.25574123688648, 61.329815107785834, 157.9708016478916, 180.90122871601244, 123.78003199992476, 105.81931438667772, 101.31026273627447, 265.92298539418977, 67.54075467206987, 262.6957558094057, 145.35542641540974, 90.77891783272891, 85.60826971475358, 125.09542780021542, 177.55436062722254, 151.6435709154762, 94.5303268202011, 321.7797955733992, 100.64908573336783, 276.5238155079858, 116.85833509293671, 403.4525051275311, 278.78359378638856, 228.49088494727533, 198.39406117889854, 230.688217732325, 130.90888565882216, 134.37286668120115, 269.3015676362817, 234.85803489660208, 172.0071882172258, 210.25430330602552, 38.42063969402316, 83.59012716539996, 25.732137450455745, 137.87618800751565, 32.85187171192571, 19.37316062393622, 24.832407070448486, 47.297090919314535, 32.121548695092045, 31.35411726796416, 20.66223493725558, 27.632876096002754, 18.975621296882917, 62.821694192297784, 17.3039858270626, 29.505585427850587, 17.771510688048306, 25.1617510759324, 35.21935665884748, 19.152792398146214, 22.373534969289015, 16.168441708345824, 15.354433136745357, 41.80094809469296, 24.039523706481496, 26.956088148602493, 32.65247555558963, 19.40936884466319, 18.197883763865217, 65.7470868244045, 23.474821329362303, 49.79593817161868, 37.580879498090106, 46.91416583401362, 56.82182809322115, 105.4421007088652, 115.03306743582048, 39.23251267537337, 42.71136491563578, 44.297858525106484, 31.874014663144397, 86.00217783161841, 93.01254199412622, 59.82763297247889, 56.01429290486919, 91.90760993548366, 162.11119880101162, 128.55350066689954, 150.2595223169707, 224.26490224072973, 70.63474340402968, 209.73333593064638, 321.7797955733992, 166.3121146632295, 72.74727572336033, 232.24068148654527, 179.0463612210289, 65.26407287937853, 95.73620266631075, 278.78359378638856, 109.00732049742379, 698.8095742729108, 126.50823996428514, 153.7368226861023, 134.14325027574807, 262.6957558094057, 117.55312549437811, 144.81124208154733, 265.92298539418977, 222.86631773609764, 232.2579324051084, 210.25430330602552, 18.954468521227312, 18.948607274887003, 17.081596472898728, 17.941724636966438, 10.475732837599981, 11.464855763555285, 10.14899576229345, 13.417374513875894, 22.28021314659362, 7.949286895354099, 15.351700023370931, 7.98226441231612, 7.033347024370441, 34.1781037935677, 23.292810041497656, 12.900143585255888, 22.749532763564176, 5.294443677536502, 26.85141521809631, 17.26369606817308, 20.959137628015856, 17.05645402769927, 19.56456787698851, 12.284187450101186, 10.309182784839784, 16.08871432276152, 28.2213289249078, 18.43597581969703, 9.854645056345504, 27.156474322974535, 28.6340665185875, 120.56739061468285, 37.53487779239961, 37.898009543366, 20.644345695405086, 58.70465042728429, 46.929490059216825, 50.16872302252412, 53.003605722604014, 76.38762651726086, 58.55460034660095, 90.51788328971564, 76.49580832942294, 63.67091903086608, 305.3818945550295, 59.24842842857219, 78.71025196294264, 120.38588170302184, 94.7084714426826, 43.01950734970595, 277.54898187105084, 698.8095742729108, 133.5561618348875, 65.81744677528857, 83.34017758967407, 122.95630993705228, 248.20102927325834, 69.94436654938339, 256.48418154036784, 81.83812879867564, 46.834385293172694, 403.4525051275311, 122.16916877039816, 109.38908632070086, 177.5549259568286, 276.5238155079858, 232.24068148654527, 174.50663596448126, 155.44623288149646, 105.76931436990881, 134.14325027574807, 222.86631773609764, 282.6391666984934, 13.309324240627117, 24.305366296401303, 11.57457808924852, 14.72226301719834, 71.05799267646478, 10.396899561469487, 9.5559607383133, 42.289499735752166, 23.63890242477067, 12.331206579299064, 4.877535498857894, 7.095452233579255, 23.872157643081643, 8.80747342198933, 5.261859580858221, 15.618399849768394, 41.25547756768013, 9.228694541321808, 3.8545157101917136, 10.390949547407413, 8.128497541054173, 9.302574872346524, 34.21462394479988, 21.544461293811793, 7.410817930845008, 30.539891737916818, 4.6693417530092605, 6.422658231261557, 6.7370942287957485, 6.539172597449202, 18.527661737976523, 45.952371030742675, 39.60272118918981, 27.212907172252017, 43.94213145640066, 25.05203064755977, 33.26372757862758, 49.11661087475231, 137.65034471138694, 170.99637127692318, 150.81627003492247, 43.40878282029129, 74.24218887075651, 107.27077609239103, 38.00824116150429, 142.17510371541726, 210.25430330602552, 92.95206286297713, 84.77708985031572, 120.38588170302184, 181.9389404348317, 155.44623288149646, 199.3797283045065, 403.4525051275311, 698.8095742729108, 256.48418154036784, 91.64291910203981], \"Category\": [\"Default\", \"Default\", \"Default\", \"Default\", \"Default\", \"Default\", \"Default\", \"Default\", \"Default\", \"Default\", \"Default\", \"Default\", \"Default\", \"Default\", \"Default\", \"Default\", \"Default\", \"Default\", \"Default\", \"Default\", \"Default\", \"Default\", \"Default\", \"Default\", \"Default\", \"Default\", \"Default\", \"Default\", \"Default\", \"Default\", \"Topic1\", \"Topic1\", \"Topic1\", \"Topic1\", \"Topic1\", \"Topic1\", \"Topic1\", \"Topic1\", \"Topic1\", \"Topic1\", \"Topic1\", \"Topic1\", \"Topic1\", \"Topic1\", \"Topic1\", \"Topic1\", \"Topic1\", \"Topic1\", \"Topic1\", \"Topic1\", \"Topic1\", \"Topic1\", \"Topic1\", \"Topic1\", \"Topic1\", \"Topic1\", \"Topic1\", \"Topic1\", \"Topic1\", \"Topic1\", \"Topic1\", \"Topic1\", \"Topic1\", \"Topic1\", \"Topic1\", \"Topic1\", \"Topic1\", \"Topic1\", \"Topic1\", \"Topic1\", \"Topic1\", \"Topic1\", \"Topic1\", \"Topic1\", \"Topic1\", \"Topic1\", \"Topic1\", \"Topic1\", \"Topic1\", \"Topic1\", \"Topic1\", \"Topic1\", \"Topic1\", \"Topic1\", \"Topic1\", \"Topic1\", \"Topic1\", \"Topic1\", \"Topic1\", \"Topic1\", \"Topic1\", \"Topic1\", \"Topic1\", \"Topic1\", \"Topic1\", \"Topic1\", \"Topic1\", \"Topic1\", \"Topic1\", \"Topic1\", \"Topic1\", \"Topic2\", \"Topic2\", \"Topic2\", \"Topic2\", \"Topic2\", \"Topic2\", \"Topic2\", \"Topic2\", \"Topic2\", \"Topic2\", \"Topic2\", \"Topic2\", \"Topic2\", \"Topic2\", \"Topic2\", \"Topic2\", \"Topic2\", \"Topic2\", \"Topic2\", \"Topic2\", \"Topic2\", \"Topic2\", \"Topic2\", \"Topic2\", \"Topic2\", \"Topic2\", \"Topic2\", \"Topic2\", \"Topic2\", \"Topic2\", \"Topic2\", \"Topic2\", \"Topic2\", \"Topic2\", \"Topic2\", \"Topic2\", \"Topic2\", \"Topic2\", \"Topic2\", \"Topic2\", \"Topic2\", \"Topic2\", \"Topic2\", \"Topic2\", \"Topic2\", \"Topic2\", \"Topic2\", \"Topic2\", \"Topic2\", \"Topic2\", \"Topic2\", \"Topic2\", \"Topic2\", \"Topic2\", \"Topic2\", \"Topic2\", \"Topic2\", \"Topic2\", \"Topic2\", \"Topic2\", \"Topic2\", \"Topic2\", \"Topic2\", \"Topic2\", \"Topic2\", \"Topic2\", \"Topic2\", \"Topic2\", \"Topic2\", \"Topic2\", \"Topic2\", \"Topic2\", \"Topic2\", \"Topic2\", \"Topic3\", \"Topic3\", \"Topic3\", \"Topic3\", \"Topic3\", \"Topic3\", \"Topic3\", \"Topic3\", \"Topic3\", \"Topic3\", \"Topic3\", \"Topic3\", \"Topic3\", \"Topic3\", \"Topic3\", \"Topic3\", \"Topic3\", \"Topic3\", \"Topic3\", \"Topic3\", \"Topic3\", \"Topic3\", \"Topic3\", \"Topic3\", \"Topic3\", \"Topic3\", \"Topic3\", \"Topic3\", \"Topic3\", \"Topic3\", \"Topic3\", \"Topic3\", \"Topic3\", \"Topic3\", \"Topic3\", \"Topic3\", \"Topic3\", \"Topic3\", \"Topic3\", \"Topic3\", \"Topic3\", \"Topic3\", \"Topic3\", \"Topic3\", \"Topic3\", \"Topic3\", \"Topic3\", \"Topic3\", \"Topic3\", \"Topic3\", \"Topic3\", \"Topic3\", \"Topic3\", \"Topic3\", \"Topic3\", \"Topic3\", \"Topic3\", \"Topic3\", \"Topic3\", \"Topic3\", \"Topic3\", \"Topic3\", \"Topic3\", \"Topic3\", \"Topic3\", \"Topic3\", \"Topic3\", \"Topic3\", \"Topic3\", \"Topic3\", \"Topic3\", \"Topic3\", \"Topic4\", \"Topic4\", \"Topic4\", \"Topic4\", \"Topic4\", \"Topic4\", \"Topic4\", \"Topic4\", \"Topic4\", \"Topic4\", \"Topic4\", \"Topic4\", \"Topic4\", \"Topic4\", \"Topic4\", \"Topic4\", \"Topic4\", \"Topic4\", \"Topic4\", \"Topic4\", \"Topic4\", \"Topic4\", \"Topic4\", \"Topic4\", \"Topic4\", \"Topic4\", \"Topic4\", \"Topic4\", \"Topic4\", \"Topic4\", \"Topic4\", \"Topic4\", \"Topic4\", \"Topic4\", \"Topic4\", \"Topic4\", \"Topic4\", \"Topic4\", \"Topic4\", \"Topic4\", \"Topic4\", \"Topic4\", \"Topic4\", \"Topic4\", \"Topic4\", \"Topic4\", \"Topic4\", \"Topic4\", \"Topic4\", \"Topic4\", \"Topic4\", \"Topic4\", \"Topic4\", \"Topic4\", \"Topic4\", \"Topic4\", \"Topic4\", \"Topic4\", \"Topic4\", \"Topic4\", \"Topic4\", \"Topic4\", \"Topic4\", \"Topic4\", \"Topic4\", \"Topic4\", \"Topic4\", \"Topic4\", \"Topic4\", \"Topic4\", \"Topic4\", \"Topic4\", \"Topic4\", \"Topic5\", \"Topic5\", \"Topic5\", \"Topic5\", \"Topic5\", \"Topic5\", \"Topic5\", \"Topic5\", \"Topic5\", \"Topic5\", \"Topic5\", \"Topic5\", \"Topic5\", \"Topic5\", \"Topic5\", \"Topic5\", \"Topic5\", \"Topic5\", \"Topic5\", \"Topic5\", \"Topic5\", \"Topic5\", \"Topic5\", \"Topic5\", \"Topic5\", \"Topic5\", \"Topic5\", \"Topic5\", \"Topic5\", \"Topic5\", \"Topic5\", \"Topic5\", \"Topic5\", \"Topic5\", \"Topic5\", \"Topic5\", \"Topic5\", \"Topic5\", \"Topic5\", \"Topic5\", \"Topic5\", \"Topic5\", \"Topic5\", \"Topic5\", \"Topic5\", \"Topic5\", \"Topic5\", \"Topic5\", \"Topic5\", \"Topic5\", \"Topic5\", \"Topic5\", \"Topic5\", \"Topic5\", \"Topic5\", \"Topic5\", \"Topic5\"], \"logprob\": [30.0, 29.0, 28.0, 27.0, 26.0, 25.0, 24.0, 23.0, 22.0, 21.0, 20.0, 19.0, 18.0, 17.0, 16.0, 15.0, 14.0, 13.0, 12.0, 11.0, 10.0, 9.0, 8.0, 7.0, 6.0, 5.0, 4.0, 3.0, 2.0, 1.0, -6.108, -6.4735, -5.974, -6.7825, -7.0011, -7.3333, -6.9644, -6.2273, -7.2397, -7.6025, -6.8566, -7.3426, -7.2026, -6.7439, -7.3975, -7.7987, -6.2151, -7.6283, -7.1314, -7.2544, -7.6418, -7.8471, -6.9349, -7.4153, -7.3095, -7.0316, -8.023, -6.3644, -7.8986, -7.6825, -6.1906, -6.0623, -6.5825, -6.6507, -6.704, -6.8797, -5.4348, -7.0693, -5.2014, -6.0186, -5.5118, -6.4197, -6.8059, -6.2394, -6.6704, -6.4917, -6.8006, -4.8575, -6.0886, -6.3479, -5.9149, -6.3154, -5.7302, -5.4207, -5.7745, -5.8438, -5.7149, -5.8445, -6.0521, -6.4104, -5.8601, -6.2111, -5.9443, -6.1052, -5.9294, -6.1594, -6.1312, -6.1306, -6.2374, -6.1785, -6.2296, -6.4289, -6.639, -5.8955, -7.2322, -7.3156, -7.3905, -7.6893, -7.0133, -5.4785, -6.1118, -7.4377, -6.8875, -7.4154, -6.8816, -6.877, -7.9888, -8.0619, -7.5475, -7.9927, -7.0333, -7.2244, -7.6119, -6.6709, -7.8832, -6.1657, -8.2675, -6.6287, -7.7043, -7.2514, -8.0702, -6.5115, -6.8504, -6.8797, -6.4146, -6.5091, -6.9334, -7.1017, -6.8331, -6.4752, -6.4048, -6.5688, -6.4659, -5.9585, -6.4865, -5.7475, -5.6439, -5.9779, -6.1052, -6.1408, -5.493, -6.4714, -5.6146, -5.988, -6.2908, -6.3388, -6.1193, -5.9592, -6.0756, -6.3155, -5.7701, -6.2894, -5.8793, -6.2438, -5.861, -5.9823, -6.0467, -6.0928, -6.052, -6.2449, -6.2479, -6.14, -6.1886, -6.2485, -6.2405, -6.5353, -5.7639, -6.9488, -5.2733, -6.7089, -7.2449, -6.9988, -6.3583, -6.7484, -6.7727, -7.1954, -6.9165, -7.293, -6.1026, -7.3956, -6.8638, -7.372, -7.0282, -6.6948, -7.3051, -7.1507, -7.4762, -7.5297, -6.5285, -7.082, -6.9687, -6.7836, -7.3042, -7.3714, -6.0881, -7.1188, -6.3927, -6.6717, -6.4621, -6.2951, -5.7202, -5.6465, -6.6404, -6.5695, -6.5426, -6.833, -5.9694, -5.9484, -6.3174, -6.3721, -5.9802, -5.5452, -5.7559, -5.7123, -5.4422, -6.2469, -5.4965, -5.3559, -5.7668, -6.2634, -5.594, -5.8009, -6.3577, -6.1704, -5.7065, -6.1351, -5.3813, -6.0792, -6.0153, -6.0793, -5.8735, -6.1203, -6.0702, -5.921, -5.965, -5.9718, -6.096, -6.6689, -6.6701, -6.8016, -6.7829, -7.3372, -7.25, -7.3925, -7.1152, -6.6084, -7.6586, -7.0069, -7.6898, -7.8291, -6.2633, -6.6469, -7.2411, -6.6739, -8.1349, -6.5235, -6.9714, -6.7851, -6.9946, -6.8575, -7.3292, -7.5108, -7.0682, -6.508, -6.9475, -7.5739, -6.5602, -6.5109, -5.1164, -6.3044, -6.3055, -6.861, -5.9426, -6.142, -6.0856, -6.0384, -5.7394, -5.964, -5.6284, -5.7668, -5.9157, -4.7621, -6.0271, -5.8252, -5.5383, -5.7169, -6.2818, -4.9884, -4.4993, -5.5465, -5.9973, -5.8865, -5.7371, -5.3833, -6.0437, -5.4431, -5.9964, -6.2587, -5.3321, -5.8498, -5.9332, -5.8032, -5.6839, -5.7559, -5.852, -5.9077, -5.9777, -5.9604, -5.9503, -5.9928, -6.1436, -5.605, -6.3673, -6.1303, -4.6902, -6.6159, -6.7201, -5.2824, -5.9015, -6.67, -7.599, -7.246, -6.1081, -7.1091, -7.6331, -6.5496, -5.5929, -7.1001, -7.9894, -7.0022, -7.248, -7.1148, -5.838, -6.3165, -7.405, -6.0042, -7.8989, -7.6133, -7.5675, -7.6178, -6.5851, -5.7008, -5.8466, -6.2107, -5.7651, -6.2994, -6.0541, -5.7206, -4.8568, -4.701, -4.912, -5.9342, -5.54, -5.4028, -6.1137, -5.4199, -5.3617, -5.8143, -5.8726, -5.7668, -5.7194, -5.7661, -5.7304, -5.8453, -5.8093, -5.9944, -6.0562], \"loglift\": [30.0, 29.0, 28.0, 27.0, 26.0, 25.0, 24.0, 23.0, 22.0, 21.0, 20.0, 19.0, 18.0, 17.0, 16.0, 15.0, 14.0, 13.0, 12.0, 11.0, 10.0, 9.0, 8.0, 7.0, 6.0, 5.0, 4.0, 3.0, 2.0, 1.0, 0.8171, 0.8139, 0.8126, 0.8121, 0.81, 0.8011, 0.7978, 0.7972, 0.7948, 0.7918, 0.7898, 0.7878, 0.7838, 0.7798, 0.7785, 0.7771, 0.7742, 0.774, 0.7718, 0.7705, 0.7679, 0.7668, 0.7668, 0.7662, 0.7649, 0.7645, 0.7629, 0.7624, 0.762, 0.7613, 0.7585, 0.7529, 0.7516, 0.746, 0.7441, 0.749, 0.6807, 0.7485, 0.6228, 0.6771, 0.6165, 0.6902, 0.7221, 0.645, 0.6922, 0.6586, 0.7131, 0.3265, 0.5752, 0.6209, 0.4862, 0.5884, 0.4073, 0.3126, 0.4118, 0.4306, 0.3743, 0.3775, 0.4639, 0.5984, 0.2472, 0.4692, 0.2911, 0.3959, 0.0824, 0.3703, 0.3119, 0.3075, 0.3917, 0.0406, 0.0723, 1.4264, 1.4103, 1.3987, 1.3897, 1.3868, 1.3844, 1.3573, 1.3478, 1.3453, 1.3439, 1.3373, 1.3326, 1.3307, 1.3277, 1.3266, 1.3231, 1.3228, 1.3227, 1.3216, 1.3193, 1.314, 1.3116, 1.3114, 1.3086, 1.3075, 1.3073, 1.3063, 1.3046, 1.3039, 1.3029, 1.2971, 1.2867, 1.2787, 1.2636, 1.2532, 1.2746, 1.2555, 1.2272, 1.1771, 1.1475, 1.1673, 1.1416, 1.0277, 1.1306, 0.9234, 0.8916, 0.9369, 0.9665, 0.9744, 0.6572, 1.0492, 0.5478, 0.7662, 0.9341, 0.9447, 0.7849, 0.5949, 0.6362, 0.8689, 0.1894, 0.8323, 0.2318, 0.7286, -0.1277, 0.1207, 0.2552, 0.3503, 0.2403, 0.614, 0.5849, -0.0024, 0.0858, 0.3373, 0.1445, 1.5495, 1.5436, 1.5368, 1.5337, 1.5325, 1.5246, 1.5224, 1.5186, 1.5155, 1.5153, 1.5097, 1.4979, 1.4972, 1.4905, 1.4868, 1.485, 1.4838, 1.4798, 1.477, 1.4758, 1.4748, 1.4741, 1.4722, 1.472, 1.4717, 1.4704, 1.4638, 1.4634, 1.4607, 1.4594, 1.4586, 1.4327, 1.4352, 1.423, 1.3984, 1.355, 1.3416, 1.4235, 1.4094, 1.3998, 1.4386, 1.3096, 1.2522, 1.3245, 1.3356, 1.2324, 1.0999, 1.1211, 1.0087, 0.8783, 1.2289, 0.891, 0.6036, 0.8526, 1.183, 0.6916, 0.7448, 1.1972, 1.0014, 0.3964, 0.9068, -0.1974, 0.8139, 0.6828, 0.7551, 0.2889, 0.8462, 0.6877, 0.2292, 0.3618, 0.3137, 0.289, 2.1225, 2.1215, 2.0937, 2.0633, 2.0471, 2.0441, 2.0235, 2.0216, 2.0212, 2.0017, 1.9953, 1.9664, 1.9536, 1.9385, 1.9384, 1.935, 1.9349, 1.9318, 1.9195, 1.9134, 1.9056, 1.9022, 1.9021, 1.8958, 1.8895, 1.8871, 1.8853, 1.8716, 1.8715, 1.8715, 1.8679, 1.8247, 1.8036, 1.793, 1.8449, 1.7183, 1.7427, 1.7323, 1.7246, 1.6582, 1.6994, 1.5994, 1.6293, 1.6639, 1.2497, 1.6246, 1.5424, 1.4044, 1.4656, 1.6899, 1.119, 0.6847, 1.2923, 1.5492, 1.424, 1.1845, 0.8358, 1.442, 0.7431, 1.3322, 1.628, 0.4012, 1.0781, 1.1053, 0.7508, 0.4272, 0.5296, 0.7194, 0.7794, 1.0944, 0.874, 0.3765, 0.0963, 3.0013, 2.9376, 2.9173, 2.9137, 2.7796, 2.776, 2.7561, 2.7064, 2.6689, 2.5512, 2.5497, 2.5279, 2.4526, 2.4486, 2.4398, 2.4354, 2.4206, 2.4109, 2.3947, 2.3902, 2.3899, 2.3882, 2.3627, 2.3468, 2.3254, 2.3101, 2.2935, 2.2602, 2.2583, 2.2377, 2.229, 2.205, 2.2078, 2.219, 2.1854, 2.213, 2.1747, 2.1185, 1.9518, 1.8907, 1.8053, 2.0285, 1.886, 1.6552, 1.9818, 1.3564, 1.0233, 1.387, 1.4207, 1.1759, 0.8103, 0.9209, 0.7078, -0.112, -0.6253, 0.1919, 1.1593]}, \"token.table\": {\"Topic\": [1, 2, 3, 4, 5, 1, 2, 3, 4, 5, 1, 2, 3, 5, 1, 2, 4, 5, 1, 2, 3, 4, 2, 3, 5, 1, 2, 1, 2, 3, 4, 5, 1, 2, 3, 4, 5, 1, 2, 3, 4, 1, 2, 3, 4, 5, 1, 4, 5, 1, 2, 4, 1, 3, 4, 1, 2, 3, 5, 1, 2, 3, 4, 5, 1, 4, 1, 3, 4, 5, 1, 2, 3, 4, 5, 1, 2, 3, 4, 5, 1, 2, 3, 4, 5, 1, 2, 3, 4, 5, 1, 2, 3, 4, 1, 3, 4, 5, 1, 2, 3, 4, 5, 1, 5, 1, 2, 3, 5, 2, 1, 1, 2, 4, 5, 1, 2, 3, 4, 5, 1, 2, 3, 4, 1, 5, 1, 2, 3, 4, 1, 2, 3, 4, 1, 3, 4, 1, 2, 4, 5, 1, 2, 3, 4, 5, 1, 2, 1, 3, 4, 1, 2, 3, 4, 5, 1, 2, 4, 5, 3, 1, 2, 3, 4, 1, 2, 3, 1, 2, 3, 4, 5, 1, 2, 3, 4, 5, 1, 4, 1, 2, 4, 5, 1, 2, 3, 4, 1, 2, 3, 4, 5, 1, 2, 4, 1, 2, 3, 4, 5, 1, 2, 3, 4, 1, 2, 3, 4, 5, 1, 2, 3, 4, 5, 1, 3, 4, 3, 5, 1, 5, 1, 2, 3, 4, 5, 1, 2, 3, 4, 5, 1, 2, 4, 5, 1, 4, 5, 1, 3, 4, 5, 1, 4, 1, 2, 4, 5, 1, 4, 1, 2, 3, 4, 1, 2, 3, 4, 5, 1, 2, 3, 4, 1, 2, 3, 4, 5, 1, 2, 3, 4, 5, 1, 2, 3, 4, 5, 1, 2, 3, 4, 1, 3, 1, 2, 3, 4, 5, 3, 4, 1, 4, 5, 1, 2, 3, 4, 1, 2, 3, 4, 5, 1, 2, 3, 4, 1, 3, 5, 1, 2, 3, 4, 5, 1, 2, 3, 4, 5, 1, 2, 3, 4, 1, 4, 5, 1, 2, 3, 4, 5, 1, 2, 3, 4, 1, 2, 1, 2, 1, 2, 1, 2, 3, 4, 5, 1, 2, 3, 4, 5, 1, 3, 4, 2, 4, 1, 5, 1, 2, 3, 4, 1, 2, 3, 4, 5, 1, 2, 3, 1, 2, 1, 2, 3, 4, 1, 2, 3, 4, 1, 2, 1, 2, 4, 1, 5, 1, 1, 2, 1, 2, 3, 5, 1, 2, 3, 4, 5, 1, 2, 3, 4, 1, 2, 3, 4, 1, 2, 3, 4, 5, 2, 3, 4, 1, 4, 5, 1, 2, 1, 2, 3, 4, 1, 2, 1, 2, 3, 4, 5, 1, 2, 3, 4, 1, 2, 3, 5, 3, 4, 1, 3, 5, 1, 3, 4, 1, 2, 1, 2, 3, 4, 5, 1, 3, 4, 1, 3, 4, 5, 1, 2, 3, 4, 5, 1, 2, 3, 4, 5, 1, 2, 3, 4, 5, 1, 2, 3, 4, 1, 2, 3, 4, 1, 4, 1, 2, 3, 4, 5, 1, 2, 3, 4, 5, 1, 2, 3, 4, 5, 1, 2, 3, 4, 1, 3, 4, 1, 2, 3, 4, 5, 1, 2, 3, 2, 3, 1, 2, 3, 4, 5, 1, 2, 3, 4, 5, 1, 2, 3, 4, 5, 1, 1, 2, 3, 4, 1, 2, 3, 4, 5, 1, 2, 3, 4, 5, 1, 2, 4, 5, 1, 2, 4, 1, 2, 3, 4, 5, 1, 2, 1, 2, 1, 2, 3, 4, 5, 1, 2, 3, 5, 1, 2, 3, 4, 1, 2, 4, 1, 2, 3, 4, 1, 2, 3, 4, 5, 1, 2, 3, 1, 2, 4, 5, 1, 2, 3, 4, 5, 1, 2, 3, 4, 5, 1, 2, 3, 4, 1, 2, 3, 4, 5, 1, 3, 4, 5, 1, 2, 3, 4, 5, 1, 3, 4, 5, 1, 2, 3, 4, 5, 1, 2, 3, 4, 5, 1, 2, 3, 4, 5, 1, 3, 1, 2, 3, 4, 5, 2, 3, 4, 1, 2, 3, 4, 5, 1, 2, 3, 4, 5, 1, 2, 4, 5, 1, 2, 3, 4, 5, 1, 2, 3, 4, 1, 2, 3, 4, 5, 1, 2, 3, 4, 5, 1, 3, 4, 1, 2, 3, 4, 1, 2, 3, 4, 5, 1, 2, 5, 1, 2, 3, 4, 1, 2, 3, 4, 5, 1, 2, 3, 4, 5, 1, 2, 3, 4, 5, 1, 2, 3, 4, 5, 1, 2, 3, 4, 5, 1, 4, 1, 1, 4, 5, 1, 2, 3, 4, 5, 1, 2, 4, 5, 1, 2, 3, 4, 5, 1, 2, 3, 4, 5, 1, 3, 1, 2, 3, 4, 5, 1, 2, 3, 4, 5, 1, 2, 4, 1, 2, 3, 4, 5, 1, 2, 3, 4, 5, 1, 2, 3, 4, 5, 1, 4, 5, 1, 2, 3, 4, 5, 1, 2, 3, 4, 5, 1, 2, 3, 4, 5, 1, 3, 4, 1, 2, 3, 1, 2, 4, 1, 2, 4, 5, 1, 2, 3, 4, 5, 1, 2, 3, 4, 5, 1, 2, 3, 4, 5, 1, 2, 3, 4, 5, 1, 2, 3, 4, 5, 1, 2, 3, 4, 5, 1, 2, 3, 4, 3, 1, 2, 3, 4, 1, 2, 3, 4, 5, 1, 2, 4, 5, 1, 2, 3, 4, 5, 1, 2, 1, 2, 3, 4, 5, 1, 2, 3, 4, 5, 1, 2, 3, 4, 1, 4, 5, 1, 2, 3, 4, 5, 1, 2, 3, 4, 5, 1, 2, 3, 4, 5, 1, 2, 4, 5, 1, 2, 3, 4, 5, 1, 4, 1, 2, 3, 1, 2, 1, 4, 1, 2, 4, 5, 1, 2, 4, 1, 4, 1, 2, 3, 4, 5, 1, 3, 4, 1, 1, 2, 3, 4, 5, 1, 4, 1, 2, 3, 4, 5, 1, 2, 3, 4, 5, 1, 2, 1, 2, 3, 4, 5, 1, 2, 3, 4, 5, 1, 2, 3, 4, 1, 2, 3, 4, 1, 2, 3, 4, 5, 1, 3, 1, 2, 3, 4, 5, 1, 2, 3, 4, 5, 1, 5, 1, 4, 1, 2, 3, 4, 5, 1, 2, 3, 4, 5, 1, 2, 3, 4, 5, 1, 3, 4, 1, 2, 3, 4, 5, 1, 2, 3, 4, 1, 3, 4, 5, 1, 2, 3, 1, 3, 1, 2, 3, 4, 5, 1, 3, 4, 5, 1, 3, 4, 1, 2, 4, 5, 3, 4, 1, 2, 3, 4, 5, 1, 2, 3, 4, 5, 1, 2, 3, 4, 5, 1, 1, 3, 5, 1, 3, 4, 1, 2, 3, 4, 5, 1, 4, 5, 1, 2, 3, 4, 5, 1, 5, 1, 2, 4, 5, 1, 2, 3, 4, 4, 5, 2, 3, 1, 2, 3, 4, 5, 1, 2, 3, 4, 1, 2, 3, 4, 5, 1, 2, 1, 4, 1, 3, 4, 1, 2, 3, 1, 2, 4, 5, 1, 2, 4, 5, 1, 2, 3, 4, 5, 1, 2, 3, 4, 5, 1, 2, 3, 4, 1, 2, 4, 1, 3, 4, 1, 2, 3, 4, 1, 2, 3, 4, 5, 1, 2, 3, 4, 5, 1, 2, 3, 4, 5, 1, 2, 3, 4, 5, 1, 1, 2, 3, 4, 5, 1, 2, 3, 4, 5, 1, 2, 3, 4, 5, 1, 2, 3, 4, 5, 1, 2, 3, 4, 5, 1, 2, 3, 4, 5, 1, 3, 1, 2, 3, 4, 5], \"Freq\": [0.653542426599259, 0.2265118637645159, 0.05198632938857742, 0.055699638630618664, 0.007426618484082489, 0.33025304938901606, 0.1284317414290618, 0.5045532698998856, 0.027521087449084672, 0.009173695816361557, 0.15569877206490826, 0.3113975441298165, 0.15569877206490826, 0.3113975441298165, 0.32507306277907383, 0.10835768759302461, 0.21671537518604922, 0.32507306277907383, 0.06394657022389057, 0.06394657022389057, 0.8313054129105775, 0.021315523407963523, 0.25943596425250076, 0.25943596425250076, 0.25943596425250076, 0.12499292589556825, 0.8332861726371217, 0.39041122875142126, 0.074759596994953, 0.008306621888328113, 0.42363771630473374, 0.09967946265993735, 0.8099924964153699, 0.08526236804372314, 0.008526236804372315, 0.025578710413116944, 0.07673613123935083, 0.010578615706068842, 0.539509401009511, 0.4337232439488225, 0.010578615706068842, 0.35863962653139403, 0.03415615490775181, 0.017078077453875906, 0.5635765559779049, 0.03415615490775181, 0.9806514767867326, 0.00710617012164299, 0.01421234024328598, 0.10222561584671461, 0.1533384237700719, 0.7155793109270022, 0.08976574805819469, 0.08976574805819469, 0.7630088584946548, 0.38495038222931394, 0.19247519111465697, 0.09623759555732848, 0.38495038222931394, 0.6343438209281945, 0.2181819511472771, 0.08888894306000178, 0.052525284535455595, 0.008080813005454707, 0.09853191620350248, 0.7882553296280198, 0.2939781460819923, 0.2939781460819923, 0.11024180478074712, 0.2939781460819923, 0.6107913283451133, 0.10179855472418554, 0.020359710944837107, 0.020359710944837107, 0.2646762422828824, 0.4256727597976336, 0.06548811689194363, 0.16372029222985907, 0.032744058445971815, 0.32744058445971813, 0.3355050392042331, 0.5760558220299097, 0.0696331213442748, 0.012660567517140871, 0.0063302837585704355, 0.3402025443904433, 0.604804523360788, 0.04725035338756157, 0.009450070677512313, 0.009450070677512313, 0.10132920929276354, 0.7430808681469326, 0.1351056123903514, 0.016888201548793925, 0.458773637687777, 0.1529245458959257, 0.1529245458959257, 0.3058490917918514, 0.38763605724633904, 0.056727227889708146, 0.22690891155883258, 0.3119997533933948, 0.01890907596323605, 0.30054117907728767, 0.6010823581545753, 0.2818706876124107, 0.14093534380620534, 0.14093534380620534, 0.42280603141861606, 0.8084282047442883, 0.9258777151463721, 0.20954061820402506, 0.06984687273467502, 0.6635452909794127, 0.03492343636733751, 0.18220350478540112, 0.6420504454342707, 0.09543993107806725, 0.0694108589658671, 0.017352714741466775, 0.045629398120897995, 0.015209799373632664, 0.8669585642970619, 0.045629398120897995, 0.3847300799965258, 0.4809125999956573, 0.06024587767903242, 0.06024587767903242, 0.8434422875064538, 0.020081959226344138, 0.04159816193572844, 0.04159816193572844, 0.8735614006502972, 0.04159816193572844, 0.0677837762240156, 0.8811890909122029, 0.0338918881120078, 0.9238023127436564, 0.049489409611267306, 0.016496469870422435, 0.016496469870422435, 0.26018490106089576, 0.29270801369350774, 0.40328659664438843, 0.045532357685656756, 0.006504622526522394, 0.9614697586824454, 0.018852348209459715, 0.05779015366714229, 0.8668523050071344, 0.05779015366714229, 0.5105549950424457, 0.09945876526800891, 0.19228694618481723, 0.006630584351200594, 0.19228694618481723, 0.10100316038615709, 0.6060189623169425, 0.025250790096539272, 0.277758691061932, 0.9291204646164121, 0.028240526092442375, 0.8472157827732713, 0.1129621043697695, 0.014120263046221188, 0.08404833346140382, 0.8124672234602369, 0.08404833346140382, 0.5087827265007061, 0.15205001021860182, 0.04093654121270049, 0.08772115974150105, 0.21053078337960252, 0.2683698205164817, 0.03727358618284469, 0.43237359972099837, 0.24600566880677494, 0.022364151709706813, 0.9296688974398359, 0.035756496055378305, 0.19004688069553116, 0.3800937613910623, 0.19004688069553116, 0.3800937613910623, 0.03431115761014955, 0.8920900978638884, 0.03431115761014955, 0.03431115761014955, 0.2506888651480379, 0.17757127947986018, 0.553604577201917, 0.02089073876233649, 0.010445369381168246, 0.08939921086023048, 0.8641923716488946, 0.02979973695341016, 0.057925023474177995, 0.11585004694835599, 0.11585004694835599, 0.6951002816901359, 0.057925023474177995, 0.08227768804199626, 0.8227768804199626, 0.027425896013998752, 0.054851792027997504, 0.7056587918402238, 0.14983166128114342, 0.115998705507982, 0.01449983818849775, 0.009666558792331834, 0.08693152519452046, 0.06954522015561637, 0.7736905742312321, 0.008693152519452046, 0.060852067636164325, 0.05077018810252013, 0.9356220378892995, 0.007252884014645733, 0.9262090434789497, 0.04026995841212825, 0.41858690188654235, 0.523233627358178, 0.3495569074657758, 0.14899146875590444, 0.2750611730878236, 0.21202632092186402, 0.017191323317988973, 0.9287591046449623, 0.009986657039193143, 0.029959971117579427, 0.009986657039193143, 0.009986657039193143, 0.06513936557369102, 0.06513936557369102, 0.7816723868842922, 0.06513936557369102, 0.9317479104342686, 0.03726991641737074, 0.03726991641737074, 0.9505467128849101, 0.01485229238882672, 0.02970458477765344, 0.01485229238882672, 0.9277988576395758, 0.04418089798283694, 0.32490949318888784, 0.23207820942063415, 0.09283128376825367, 0.32490949318888784, 0.9652473853383549, 0.024749932957393715, 0.07540848162675033, 0.7917890570808784, 0.11311272244012549, 0.018852120406687583, 0.12302396536990419, 0.24604793073980838, 0.12302396536990419, 0.12302396536990419, 0.3690718961097126, 0.894959496249173, 0.059663966416611536, 0.014915991604152884, 0.029831983208305768, 0.31507505184700313, 0.5816770187944673, 0.06463077986605192, 0.03231538993302596, 0.00807884748325649, 0.8822076125832876, 0.07351730104860729, 0.014703460209721459, 0.014703460209721459, 0.029406920419442917, 0.8383847425711783, 0.13291465431006486, 0.010224204177697297, 0.010224204177697297, 0.010224204177697297, 0.07448396979285155, 0.11172595468927733, 0.11172595468927733, 0.7075977130320897, 0.04839747505711127, 0.9195520260851142, 0.3420310859626604, 0.18417058474912482, 0.10524033414235705, 0.15786050121353556, 0.23679075182030335, 0.14217981802049795, 0.7108990901024898, 0.9461311078674679, 0.028670639632347512, 0.028670639632347512, 0.03189373795644193, 0.03189373795644193, 0.9249184007368161, 0.03189373795644193, 0.20225042387114536, 0.1633561115882328, 0.6223089965266011, 0.007778862456582514, 0.007778862456582514, 0.24222332823735856, 0.7105217628295851, 0.01614822188249057, 0.01614822188249057, 0.16219013014975253, 0.40547532537438136, 0.40547532537438136, 0.35439985456576284, 0.28930600372715337, 0.18804890242264968, 0.15911830204993435, 0.014465300186357668, 0.8722853145330889, 0.012641816152653461, 0.07585089691592077, 0.025283632305306922, 0.012641816152653461, 0.9404051335110581, 0.03548698617022861, 0.017743493085114304, 0.017743493085114304, 0.44818931947780827, 0.1920811369190607, 0.3841622738381214, 0.5908207400934089, 0.18287308621938847, 0.007033580239207249, 0.09847012334890148, 0.11957086406652323, 0.04935334155647919, 0.6021107669890462, 0.3356027225840585, 0.009870668311295839, 0.05189829099761088, 0.9341692379569959, 0.0681039363773158, 0.8853511729051053, 0.9570466417117661, 0.016790291959855545, 0.4505662362636136, 0.4111416905905474, 0.06195285748624687, 0.06195285748624687, 0.01126415590659034, 0.12670461065631683, 0.03167615266407921, 0.3484376793048713, 0.44346613729710893, 0.04223487021877228, 0.19400179837155562, 0.09700089918577781, 0.6790062943004447, 0.18887725715977374, 0.755509028639095, 0.4100431458609195, 0.4100431458609195, 0.20057621209115994, 0.03342936868185999, 0.7521607953418499, 0.016714684340929997, 0.1743709413996869, 0.21646047897892168, 0.47501049553707814, 0.11424303057220866, 0.018038373248243474, 0.01759887060232228, 0.15838983542090052, 0.8271469183091472, 0.04827048810385742, 0.917139273973291, 0.026609276136042023, 0.07982782840812608, 0.8514968363533447, 0.026609276136042023, 0.9360630079168077, 0.039002625329866994, 0.019501312664933497, 0.019501312664933497, 0.11416963695521351, 0.8562722771641014, 0.0680451158192989, 0.8505639477412362, 0.0680451158192989, 0.5397514872617989, 0.26987574363089945, 0.9576600272785574, 0.11724883911850681, 0.8500540836091744, 0.09365188885676842, 0.04682594442838421, 0.8194540274967237, 0.023412972214192106, 0.13257048843698938, 0.07733278492157712, 0.2540934361708963, 0.5081868723417926, 0.022095081406164892, 0.08832039190502196, 0.824323657780205, 0.05888026127001464, 0.02944013063500732, 0.03687666383421715, 0.8776645992543681, 0.05900266213474744, 0.02950133106737372, 0.3299195667880047, 0.012219243214370545, 0.2199463778586698, 0.39101578285985744, 0.03665772964311163, 0.04228589879685957, 0.9302897735309105, 0.021142949398429783, 0.23451533322835427, 0.7035459996850628, 0.05862883330708857, 0.05042471345581576, 0.857220128748868, 0.7898254215911473, 0.1064933152707165, 0.06212110057458462, 0.0354977717569055, 0.0954978042573883, 0.8594802383164947, 0.16921259405887182, 0.2961220396030257, 0.042303148514717955, 0.042303148514717955, 0.4653346336618975, 0.04775420399865327, 0.031836135999102184, 0.8914118079748611, 0.015918067999551092, 0.028393477191718926, 0.05678695438343785, 0.8801977929432867, 0.028393477191718926, 0.12579744738920448, 0.7547846843352269, 0.21499423841729434, 0.3224913576259415, 0.3224913576259415, 0.0562698364564201, 0.9003173833027216, 0.0562698364564201, 0.051905635672712745, 0.8823958064361167, 0.5918354940266658, 0.15548220605785287, 0.06520221544361572, 0.12538887585310715, 0.06520221544361572, 0.9273019062696903, 0.025758386285269178, 0.025758386285269178, 0.3713178658657997, 0.08439042406040902, 0.5232206291745359, 0.016878084812081803, 0.26104808678343283, 0.2765866633776848, 0.36981812294319655, 0.08390831360896056, 0.009323145956551173, 0.34877847634906817, 0.008506792106074834, 0.4678735658341159, 0.14461546580327217, 0.025520376318224503, 0.6550111550390433, 0.07407864253417751, 0.011696627768554345, 0.2183370516796811, 0.03898875922851448, 0.9167652828124344, 0.03985936012227976, 0.01992968006113988, 0.01992968006113988, 0.1379012924405416, 0.1685460240939953, 0.6741840963759812, 0.015322365826726846, 0.28627132024649066, 0.7156783006162266, 0.27666182068362455, 0.16599709241017474, 0.4584681599900064, 0.0948554813772427, 0.007904623448103559, 0.15882744785137637, 0.3452770605464704, 0.40052139023390565, 0.0897720357420823, 0.006905541210929408, 0.33934887741955777, 0.07271761658990523, 0.048478411059936825, 0.1939136442397473, 0.36358808294952616, 0.06835475586949415, 0.7860796924991826, 0.10253213380424121, 0.03417737793474707, 0.20294997826554698, 0.10147498913277349, 0.7103249239294144, 0.45082493168625787, 0.2904352925286469, 0.20807304539365748, 0.04334855112367864, 0.0043348551123678645, 0.023922902364192065, 0.09569160945676826, 0.8851473874751064, 0.09187664790966954, 0.8881409297934723, 0.43486135846518265, 0.18944455220265383, 0.2755557122947692, 0.08611116009211538, 0.012916674013817306, 0.3184822697697195, 0.24770843204311518, 0.22411715280091374, 0.07077383772660434, 0.12975203583210795, 0.46829001526555614, 0.29322832731581555, 0.12254318156481843, 0.10066047057110085, 0.013129626596230546, 0.9356301969307739, 0.04843941361738459, 0.14531824085215375, 0.14531824085215375, 0.6781517906433843, 0.4021963855861988, 0.4706553448349135, 0.10268843887307204, 0.017114739812178672, 0.008557369906089336, 0.009483877818036715, 0.1896775563607343, 0.7871618588970474, 0.009483877818036715, 0.009483877818036715, 0.33988790455070594, 0.1176535054213982, 0.5229044685395475, 0.01307261171348869, 0.17555099124981874, 0.08777549562490937, 0.7314624635409114, 0.16067327700244258, 0.053557759000814185, 0.7676612123450034, 0.01785258633360473, 0.01785258633360473, 0.07874855075840513, 0.8662340583424564, 0.13443598486604574, 0.8514279041516231, 0.3590283406925678, 0.4201395476189623, 0.022916702597397944, 0.1604169181817856, 0.03819450432899657, 0.2057158875544414, 0.04114317751088828, 0.12342953253266484, 0.5760044851524359, 0.02069111652383392, 0.9517913600963602, 0.02069111652383392, 0.02069111652383392, 0.18646611157460533, 0.12431074104973688, 0.6837090757735529, 0.1627253164866269, 0.05424177216220896, 0.10848354432441792, 0.6509012659465075, 0.6029770588226789, 0.06538305457113387, 0.08717740609484516, 0.014529567682474192, 0.22520829907835, 0.2580297182020421, 0.021502476516836844, 0.7095817250556159, 0.5987538579616537, 0.03991692386411025, 0.03991692386411025, 0.27941846704877177, 0.9280310041047307, 0.016721279353238392, 0.033442558706476784, 0.008360639676619196, 0.016721279353238392, 0.11782012886558695, 0.0654556271475483, 0.2225491323016642, 0.5367361426098961, 0.0654556271475483, 0.05495144451827187, 0.05495144451827187, 0.87922311229235, 0.05495144451827187, 0.3717159613811418, 0.11827326043945421, 0.26470682098354037, 0.21965034081612925, 0.028160300104631955, 0.9334046395647396, 0.02170708464104046, 0.02170708464104046, 0.02170708464104046, 0.36269259334875564, 0.4286367012303476, 0.15826585891582065, 0.026377643152636774, 0.01978323236447758, 0.1252777342801454, 0.1252777342801454, 0.7516664056808725, 0.1252777342801454, 0.6656269856711957, 0.08729534238310763, 0.032735753393665364, 0.10911917797888454, 0.09820726018099608, 0.5068098797213031, 0.2073313144314422, 0.023036812714604688, 0.046073625429209376, 0.23036812714604687, 0.24674421197205032, 0.09252907948951887, 0.6045233193315233, 0.049348842394410064, 0.006168605299301258, 0.02602767699767277, 0.9630240489138926, 0.2864101117388085, 0.5838359970060326, 0.11015773528415711, 0.02203154705683142, 0.01101577352841571, 0.8879317527733915, 0.09545871544287136, 0.7636697235429709, 0.2798820584918312, 0.13348221251148873, 0.4047525153574174, 0.1765409907410012, 0.008611755645902499, 0.12644789299888576, 0.17968911110367977, 0.5523776378372378, 0.13310304526198502, 0.013310304526198502, 0.2932286266142625, 0.083779607604075, 0.251338822812225, 0.3770082342183375, 0.4567879695192742, 0.28898830724688773, 0.046611017297885124, 0.046611017297885124, 0.16779966227238644, 0.0618488793192618, 0.0618488793192618, 0.8658843104696652, 0.0618488793192618, 0.11437661665506249, 0.07148538540941406, 0.32883277288330465, 0.44320938953836714, 0.042891231245648434, 0.17034425598678427, 0.20441310718414113, 0.03406885119735685, 0.5791704703550665, 0.017034425598678425, 0.11708507475710216, 0.05854253737855108, 0.8195955232997151, 0.05079941978488927, 0.7873910066657837, 0.10159883956977854, 0.05079941978488927, 0.4512471214480459, 0.12086976467358372, 0.18130464701037557, 0.23771053719138133, 0.008057984311572248, 0.9646093519943368, 0.01803008134568854, 0.00901504067284427, 0.0693329498744769, 0.8146621610251036, 0.10399942481171535, 0.017333237468619225, 0.7100434134236718, 0.0322747006101669, 0.0753076347570561, 0.0645494012203338, 0.1290988024406676, 0.7830197621410064, 0.09587997087440896, 0.08788997330154154, 0.031959990291469655, 0.007989997572867414, 0.44765571019484157, 0.31975407871060113, 0.08720565783016394, 0.12208792096222952, 0.023254842088043716, 0.9213819561041358, 0.02925022082870272, 0.01462511041435136, 0.01462511041435136, 0.01462511041435136, 0.8306477131768341, 0.07836299180913528, 0.007836299180913529, 0.07836299180913528, 0.007836299180913529, 0.9849651208305886, 0.011725775247983197, 0.9699800352446226, 0.9315704050119503, 0.024515010658209217, 0.024515010658209217, 0.20327720469670096, 0.03811447588063143, 0.26680133116442, 0.4827833611546648, 0.01270482529354381, 0.2790583287064025, 0.11959642658845823, 0.578049395177548, 0.01993273776474304, 0.8116741291932351, 0.03257555033551445, 0.12215831375817919, 0.013573145973131022, 0.02443166275163584, 0.8057524136950144, 0.011037704297191978, 0.13981092109776505, 0.04415081718876791, 0.0036792347657306594, 0.07419474179541469, 0.8903369015449762, 0.05152151046245692, 0.05152151046245692, 0.8758656778617676, 0.05152151046245692, 0.05152151046245692, 0.17935811449403094, 0.7011271748403027, 0.048915849407462984, 0.048915849407462984, 0.016305283135820994, 0.044534123405845984, 0.9352165915227656, 0.044534123405845984, 0.5947758682836553, 0.32259030144198253, 0.05544520806034074, 0.01512142038009293, 0.010080946920061954, 0.9087776028734824, 0.05507743047718075, 0.013769357619295187, 0.013769357619295187, 0.013769357619295187, 0.21416294906140204, 0.21416294906140204, 0.21416294906140204, 0.21416294906140204, 0.21416294906140204, 0.9876081546402357, 0.008162050864795337, 0.008162050864795337, 0.3439844059010603, 0.48845785637950556, 0.13759376236042412, 0.006879688118021205, 0.01375937623604241, 0.5689300716967945, 0.045514405735743564, 0.022757202867871782, 0.09102881147148713, 0.2730864344144614, 0.3365246070463175, 0.21088875374902563, 0.29165465944014185, 0.15255782186099726, 0.008973989521235133, 0.036188777329069104, 0.9047194332267275, 0.036188777329069104, 0.023494794444970542, 0.8458126000189395, 0.09397917777988217, 0.237479490570645, 0.13193305031702499, 0.63327864152172, 0.266418877272191, 0.07992566318165731, 0.6394053054532585, 0.0266418877272191, 0.8640407063085283, 0.0490932219493482, 0.03927457755947856, 0.03927457755947856, 0.00981864438986964, 0.633316330821726, 0.18398016314374163, 0.060147361027761685, 0.11321856193461023, 0.01061424018136971, 0.522279905512247, 0.06528498818903088, 0.02176166272967696, 0.08704665091870784, 0.28290161548580045, 0.06976567514077672, 0.16278657532847904, 0.7441672015016184, 0.011627612523462788, 0.011627612523462788, 0.011963135287751123, 0.023926270575502246, 0.9450876877323386, 0.011963135287751123, 0.011963135287751123, 0.22886204420966447, 0.1525746961397763, 0.491099803199905, 0.1001271443417282, 0.02860775552620806, 0.303708976791984, 0.5840557245999692, 0.08176780144399569, 0.011681114491999385, 0.9326858309461942, 0.9435703785909456, 0.023589259464773638, 0.023589259464773638, 0.023589259464773638, 0.9215038000782592, 0.04914686933750716, 0.01228671733437679, 0.01228671733437679, 0.01228671733437679, 0.011806243975079855, 0.9208870300562287, 0.04722497590031942, 0.011806243975079855, 0.18037665760150962, 0.18037665760150962, 0.09018832880075481, 0.27056498640226445, 0.27056498640226445, 0.08900798025915899, 0.8900798025915899, 0.37954090925958445, 0.40930882371131655, 0.14883957225866057, 0.05209385029053119, 0.007441978612933028, 0.8572535139939809, 0.07991346316893043, 0.021794580864253753, 0.010897290432126876, 0.029059441152338335, 0.27492438446843, 0.054984876893686, 0.659818522724232, 0.0137462192234215, 0.29686388999156077, 0.29686388999156077, 0.29686388999156077, 0.6684889451158031, 0.24695769946953236, 0.021289456850821755, 0.05535258781213656, 0.004257891370164351, 0.3236792812980469, 0.08443807338209919, 0.014073012230349865, 0.08443807338209919, 0.5066284402925951, 0.4073559108983284, 0.5265820311612538, 0.019871020043820898, 0.039742040087641796, 0.009935510021910449, 0.08586340576499228, 0.12879510864748842, 0.7298389490024344, 0.04293170288249614, 0.6939565661745093, 0.2331260339492492, 0.027107678366191768, 0.03252921403943012, 0.021686142692953415, 0.10551601580177142, 0.8441281264141713, 0.0677233640605833, 0.0902978187474444, 0.8126803687269996, 0.06558135171955949, 0.8525575723542734, 0.4184148333842562, 0.5578864445123416, 0.13584868016986437, 0.20377302025479657, 0.06792434008493219, 0.6113190607643897, 0.050238914844458256, 0.9294199246224778, 0.025119457422229128, 0.1114720039721977, 0.8360400297914827, 0.6465326619553222, 0.06734715228701273, 0.02693886091480509, 0.04040829137220764, 0.2020414568610382, 0.9535213479871623, 0.027243467085347493, 0.027243467085347493, 0.9445103429758012, 0.3038707968767497, 0.18232247812604982, 0.015193539843837487, 0.4861932750027996, 0.015193539843837487, 0.10554865436736573, 0.8443892349389258, 0.24970469940003656, 0.18281951206074104, 0.486032361332214, 0.06688518733929551, 0.017836049957145467, 0.16320737761029303, 0.054402459203431, 0.6963514778039168, 0.07616344288480341, 0.0108804918406862, 0.09439397534326206, 0.8495457780893586, 0.6024531081132326, 0.010017035051763963, 0.1659965808578028, 0.2046337160574638, 0.01717206008873822, 0.856495121235945, 0.05839739462972352, 0.006488599403302614, 0.03893159641981568, 0.03893159641981568, 0.03137351885441309, 0.06274703770882618, 0.8470850090691534, 0.03137351885441309, 0.2984093882921538, 0.04711727183560323, 0.09423454367120646, 0.5497015047487044, 0.6964649391267611, 0.17251883813231697, 0.07667503916991865, 0.04472710618245255, 0.006389586597493221, 0.06512777066363049, 0.9117887892908267, 0.6033508663424143, 0.0548500787584013, 0.009141679793066883, 0.310817112964274, 0.018283359586133766, 0.239980290160529, 0.1919842321284232, 0.1199901450802645, 0.4319645222889522, 0.0239980290160529, 0.9409961479205046, 0.028515034785469833, 0.9365326307383764, 0.03602048579762986, 0.6320801897886813, 0.21985397905693263, 0.03847444633496321, 0.04397079581138653, 0.07145254319350311, 0.279257280957953, 0.24016126162383955, 0.4244710670560885, 0.050266310572431534, 0.01117029123831812, 0.24882349901621378, 0.05805881643711655, 0.024882349901621376, 0.638646980808282, 0.03317646653549517, 0.16281093138020503, 0.08140546569010251, 0.6512437255208201, 0.12741605003815382, 0.14157338893128202, 0.6937096057632819, 0.0283146777862564, 0.0141573388931282, 0.14805875428180995, 0.6514585188399638, 0.11844700342544796, 0.07402937714090498, 0.07646718997641792, 0.8411390897405973, 0.025489063325472645, 0.05097812665094529, 0.08324949548956292, 0.8741197026404107, 0.02774983182985431, 0.052211707787152194, 0.8875990323815872, 0.31390558462880486, 0.2615879871906707, 0.2711002776339678, 0.06658603310307983, 0.08561061398967405, 0.15503703402851138, 0.07751851701425569, 0.6976666531283012, 0.07751851701425569, 0.031131749265650856, 0.9339524779695257, 0.031131749265650856, 0.9156017003901057, 0.03924007287386167, 0.013080024291287224, 0.02616004858257445, 0.1490604587307042, 0.745302293653521, 0.5948655590182447, 0.20076712616865758, 0.022307458463184174, 0.15367360274637987, 0.02726467145500288, 0.47154072512983036, 0.12770894638932906, 0.009823765106871466, 0.3602047205852871, 0.029471295320614398, 0.307404913305456, 0.09458612717090954, 0.09458612717090954, 0.023646531792727386, 0.47293063585454775, 0.9572648927823092, 0.04259883327628143, 0.8519766655256287, 0.04259883327628143, 0.10630257731599012, 0.21260515463198024, 0.6732496563346041, 0.4236765558261973, 0.503615528623593, 0.031975589118958286, 0.015987794559479143, 0.023981691839218715, 0.34558495084287777, 0.08639623771071944, 0.6047736639750361, 0.6690416234099659, 0.0192992775983644, 0.006433092532788133, 0.22515823864758466, 0.0771971103934576, 0.5676996977949049, 0.34061981867694296, 0.2597894070199674, 0.7182413017610862, 0.015281729824703964, 0.015281729824703964, 0.029480532593025233, 0.8549354451977318, 0.0884415977790757, 0.029480532593025233, 0.7850076953091186, 0.08722307725656873, 0.07948572394522377, 0.8743429633974615, 0.2470870646971509, 0.052412407663032005, 0.314474445978192, 0.3743743404502286, 0.007487486809004572, 0.10675916783579259, 0.25622200280590224, 0.08540733426863407, 0.533795839178963, 0.6462979587482609, 0.21365221776802013, 0.09614349799560906, 0.03738913810940352, 0.005341305444200503, 0.060210210700743075, 0.8429429498104031, 0.2637416804273732, 0.7033111478063286, 0.22094178826903038, 0.07364726275634347, 0.6628253648070912, 0.044695663933868646, 0.044695663933868646, 0.8939132786773729, 0.5260908326521512, 0.029227268480675066, 0.0876818054420252, 0.32149995328742575, 0.5397335152931251, 0.10794670305862501, 0.053973351529312506, 0.26986675764656254, 0.5548570164510578, 0.086471223343022, 0.01080890291787775, 0.31706115225774734, 0.028823741114340665, 0.23691069768418938, 0.4399770099849231, 0.2557131340083314, 0.06392828350208285, 0.003760487264828403, 0.11848139327421194, 0.8293697529194836, 0.019746898879035323, 0.019746898879035323, 0.08193802465655588, 0.8603492588938367, 0.04096901232827794, 0.03043966592737501, 0.9436296437486253, 0.03043966592737501, 0.22039365702327413, 0.7346455234109137, 0.018366138085272845, 0.03673227617054569, 0.7730817351259769, 0.11941912981620781, 0.056566956228730016, 0.043996521511234454, 0.01257043471749556, 0.13206648688458505, 0.01886664098351215, 0.1886664098351215, 0.5848658704888766, 0.0754665639340486, 0.07739029800608974, 0.5583157213296474, 0.27086604302131406, 0.08844605486410255, 0.005527878429006409, 0.3192440372520421, 0.25826483912524756, 0.30130897897945547, 0.11119736129003713, 0.014348046618069307, 0.9725347273005599, 0.6435688295263002, 0.13357088914696796, 0.1699993134597774, 0.04857123241707926, 0.012142808104269815, 0.26193187955743596, 0.040926856180849375, 0.3847124480999841, 0.30285873573828537, 0.008185371236169874, 0.9399305722094274, 0.01740612170758199, 0.026109182561372984, 0.008703060853790995, 0.008703060853790995, 0.21308563096214653, 0.021308563096214653, 0.14915994167350258, 0.5966397666940103, 0.021308563096214653, 0.29692143201807775, 0.3958952426907703, 0.2702746368369682, 0.02664679518110954, 0.007613370051745583, 0.5814968714710415, 0.2006573711414157, 0.1678969840162866, 0.04504553229705251, 0.004095048390641137, 0.0526991967406236, 0.8958863445906012, 0.3741166274715774, 0.1870583137357887, 0.08946267178668156, 0.341584746821875, 0.01626594032485119], \"Term\": [\"000\", \"000\", \"000\", \"000\", \"000\", \"12\", \"12\", \"12\", \"12\", \"12\", \"1938\", \"1938\", \"1938\", \"1938\", \"1952\", \"1952\", \"1952\", \"1952\", \"36\", \"36\", \"36\", \"36\", \"44\", \"44\", \"44\", \"academic\", \"academic\", \"act\", \"act\", \"act\", \"act\", \"act\", \"administration\", \"administration\", \"administration\", \"administration\", \"administration\", \"af\", \"af\", \"af\", \"af\", \"agreement\", \"agreement\", \"agreement\", \"agreement\", \"agreement\", \"aircraft\", \"aircraft\", \"aircraft\", \"alaska\", \"alaska\", \"alaska\", \"alexander\", \"alexander\", \"alexander\", \"allocation\", \"allocation\", \"allocation\", \"allocation\", \"american\", \"american\", \"american\", \"american\", \"american\", \"anger\", \"anger\", \"anne\", \"anne\", \"anne\", \"anne\", \"anti\", \"anti\", \"anti\", \"anti\", \"anti\", \"appeal\", \"appeal\", \"appeal\", \"appeal\", \"appeal\", \"area\", \"area\", \"area\", \"area\", \"area\", \"areas\", \"areas\", \"areas\", \"areas\", \"areas\", \"art\", \"art\", \"art\", \"art\", \"ashamed\", \"ashamed\", \"ashamed\", \"ashamed\", \"asked\", \"asked\", \"asked\", \"asked\", \"asked\", \"assessment\", \"assessment\", \"assignments\", \"assignments\", \"assignments\", \"assignments\", \"attractions\", \"aug\", \"authorized\", \"authorized\", \"authorized\", \"authorized\", \"available\", \"available\", \"available\", \"available\", \"available\", \"bar\", \"bar\", \"bar\", \"bar\", \"bargaining\", \"bargaining\", \"bars\", \"bars\", \"bars\", \"bars\", \"baseball\", \"baseball\", \"baseball\", \"baseball\", \"bench\", \"bench\", \"bench\", \"berlin\", \"berlin\", \"berlin\", \"berlin\", \"best\", \"best\", \"best\", \"best\", \"best\", \"billion\", \"billion\", \"blocks\", \"blocks\", \"blocks\", \"board\", \"board\", \"board\", \"board\", \"board\", \"boats\", \"boats\", \"boats\", \"boats\", \"bowl\", \"bridge\", \"bridge\", \"bridge\", \"bridge\", \"builder\", \"builder\", \"builder\", \"business\", \"business\", \"business\", \"business\", \"business\", \"came\", \"came\", \"came\", \"came\", \"came\", \"castro\", \"castro\", \"catastrophe\", \"catastrophe\", \"catastrophe\", \"catastrophe\", \"cattle\", \"cattle\", \"cattle\", \"cattle\", \"center\", \"center\", \"center\", \"center\", \"center\", \"chamber\", \"chamber\", \"chamber\", \"chapter\", \"chapter\", \"chapter\", \"chapter\", \"chapter\", \"chemical\", \"chemical\", \"chemical\", \"chemical\", \"city\", \"city\", \"city\", \"city\", \"city\", \"class\", \"class\", \"class\", \"class\", \"class\", \"clay\", \"clay\", \"clay\", \"cloth\", \"cloth\", \"collective\", \"collective\", \"come\", \"come\", \"come\", \"come\", \"come\", \"committee\", \"committee\", \"committee\", \"committee\", \"committee\", \"commodities\", \"commodities\", \"commodities\", \"commodities\", \"communism\", \"communism\", \"communism\", \"communist\", \"communist\", \"communist\", \"communist\", \"communists\", \"communists\", \"concerns\", \"concerns\", \"concerns\", \"concerns\", \"congo\", \"congo\", \"cooling\", \"cooling\", \"cooling\", \"cooling\", \"cooperative\", \"cooperative\", \"cooperative\", \"cooperative\", \"cooperative\", \"corps\", \"corps\", \"corps\", \"corps\", \"cost\", \"cost\", \"cost\", \"cost\", \"cost\", \"council\", \"council\", \"council\", \"council\", \"council\", \"county\", \"county\", \"county\", \"county\", \"county\", \"cousin\", \"cousin\", \"cousin\", \"cousin\", \"cream\", \"cream\", \"credit\", \"credit\", \"credit\", \"credit\", \"credit\", \"cried\", \"cried\", \"cuba\", \"cuba\", \"cuba\", \"cup\", \"cup\", \"cup\", \"cup\", \"cut\", \"cut\", \"cut\", \"cut\", \"cut\", \"daily\", \"daily\", \"daily\", \"daily\", \"dave\", \"dave\", \"dave\", \"day\", \"day\", \"day\", \"day\", \"day\", \"defense\", \"defense\", \"defense\", \"defense\", \"defense\", \"democratic\", \"democratic\", \"democratic\", \"democratic\", \"denied\", \"denied\", \"denied\", \"department\", \"department\", \"department\", \"department\", \"department\", \"design\", \"design\", \"design\", \"design\", \"designer\", \"designer\", \"designers\", \"designers\", \"destroy\", \"destroy\", \"development\", \"development\", \"development\", \"development\", \"development\", \"didn\", \"didn\", \"didn\", \"didn\", \"didn\", \"dignity\", \"dignity\", \"dignity\", \"dirty\", \"dirty\", \"discontinued\", \"discontinued\", \"dog\", \"dog\", \"dog\", \"dog\", \"don\", \"don\", \"don\", \"don\", \"don\", \"drill\", \"drill\", \"drill\", \"economical\", \"economical\", \"edges\", \"edges\", \"edges\", \"edges\", \"election\", \"election\", \"election\", \"election\", \"electricity\", \"electricity\", \"employee\", \"employee\", \"employee\", \"employers\", \"employers\", \"enemy\", \"engineers\", \"engineers\", \"exercise\", \"exercise\", \"exercise\", \"exercise\", \"eyes\", \"eyes\", \"eyes\", \"eyes\", \"eyes\", \"features\", \"features\", \"features\", \"features\", \"feed\", \"feed\", \"feed\", \"feed\", \"felt\", \"felt\", \"felt\", \"felt\", \"felt\", \"fig\", \"fig\", \"fig\", \"filing\", \"filing\", \"filing\", \"fishing\", \"fishing\", \"force\", \"force\", \"force\", \"force\", \"forests\", \"forests\", \"foundation\", \"foundation\", \"foundation\", \"foundation\", \"foundation\", \"frame\", \"frame\", \"frame\", \"frame\", \"frames\", \"frames\", \"frames\", \"frames\", \"funny\", \"funny\", \"furnished\", \"furnished\", \"furnished\", \"gate\", \"gate\", \"gate\", \"gear\", \"gear\", \"general\", \"general\", \"general\", \"general\", \"general\", \"georgia\", \"georgia\", \"georgia\", \"god\", \"god\", \"god\", \"god\", \"good\", \"good\", \"good\", \"good\", \"good\", \"got\", \"got\", \"got\", \"got\", \"got\", \"government\", \"government\", \"government\", \"government\", \"government\", \"governor\", \"governor\", \"governor\", \"governor\", \"green\", \"green\", \"green\", \"green\", \"gross\", \"gross\", \"half\", \"half\", \"half\", \"half\", \"half\", \"head\", \"head\", \"head\", \"head\", \"head\", \"hearing\", \"hearing\", \"hearing\", \"hearing\", \"hearing\", \"heating\", \"heating\", \"heating\", \"heating\", \"heaven\", \"heaven\", \"heaven\", \"high\", \"high\", \"high\", \"high\", \"high\", \"hole\", \"hole\", \"hole\", \"holes\", \"holes\", \"home\", \"home\", \"home\", \"home\", \"home\", \"hours\", \"hours\", \"hours\", \"hours\", \"hours\", \"house\", \"house\", \"house\", \"house\", \"house\", \"hughes\", \"import\", \"import\", \"import\", \"import\", \"important\", \"important\", \"important\", \"important\", \"important\", \"inch\", \"inch\", \"inch\", \"inch\", \"inch\", \"income\", \"income\", \"income\", \"income\", \"india\", \"india\", \"india\", \"inside\", \"inside\", \"inside\", \"inside\", \"inside\", \"installation\", \"installation\", \"insurance\", \"insurance\", \"interest\", \"interest\", \"interest\", \"interest\", \"interest\", \"interference\", \"interference\", \"interference\", \"interference\", \"interior\", \"interior\", \"interior\", \"interior\", \"islands\", \"islands\", \"islands\", \"japanese\", \"japanese\", \"japanese\", \"japanese\", \"john\", \"john\", \"john\", \"john\", \"john\", \"junior\", \"junior\", \"junior\", \"justice\", \"justice\", \"justice\", \"justice\", \"kennedy\", \"kennedy\", \"kennedy\", \"kennedy\", \"kennedy\", \"knew\", \"knew\", \"knew\", \"knew\", \"knew\", \"knight\", \"knight\", \"knight\", \"knight\", \"know\", \"know\", \"know\", \"know\", \"know\", \"laos\", \"laos\", \"laos\", \"laos\", \"large\", \"large\", \"large\", \"large\", \"large\", \"laughing\", \"laughing\", \"laughing\", \"laughing\", \"law\", \"law\", \"law\", \"law\", \"law\", \"laws\", \"laws\", \"laws\", \"laws\", \"laws\", \"left\", \"left\", \"left\", \"left\", \"left\", \"leg\", \"leg\", \"level\", \"level\", \"level\", \"level\", \"level\", \"lighting\", \"lips\", \"lips\", \"little\", \"little\", \"little\", \"little\", \"little\", \"ll\", \"ll\", \"ll\", \"ll\", \"ll\", \"loans\", \"loans\", \"loans\", \"loans\", \"local\", \"local\", \"local\", \"local\", \"local\", \"lock\", \"lock\", \"lock\", \"lock\", \"looked\", \"looked\", \"looked\", \"looked\", \"looked\", \"love\", \"love\", \"love\", \"love\", \"love\", \"loved\", \"loved\", \"loved\", \"lumber\", \"lumber\", \"lumber\", \"lumber\", \"man\", \"man\", \"man\", \"man\", \"man\", \"marketing\", \"marketing\", \"marketing\", \"materials\", \"materials\", \"materials\", \"materials\", \"meeting\", \"meeting\", \"meeting\", \"meeting\", \"meeting\", \"members\", \"members\", \"members\", \"members\", \"members\", \"men\", \"men\", \"men\", \"men\", \"men\", \"military\", \"military\", \"military\", \"military\", \"military\", \"million\", \"million\", \"million\", \"million\", \"million\", \"missile\", \"missile\", \"missiles\", \"mobile\", \"mobile\", \"mobile\", \"mother\", \"mother\", \"mother\", \"mother\", \"mother\", \"motors\", \"motors\", \"motors\", \"motors\", \"mr\", \"mr\", \"mr\", \"mr\", \"mr\", \"mrs\", \"mrs\", \"mrs\", \"mrs\", \"mrs\", \"muscle\", \"muscle\", \"muscles\", \"muscles\", \"muscles\", \"muscles\", \"muscles\", \"music\", \"music\", \"music\", \"music\", \"music\", \"musical\", \"musical\", \"musical\", \"national\", \"national\", \"national\", \"national\", \"national\", \"nations\", \"nations\", \"nations\", \"nations\", \"nations\", \"nineteen\", \"nineteen\", \"nineteen\", \"nineteen\", \"nineteen\", \"nuclear\", \"nuclear\", \"nuclear\", \"number\", \"number\", \"number\", \"number\", \"number\", \"officer\", \"officer\", \"officer\", \"officer\", \"officer\", \"old\", \"old\", \"old\", \"old\", \"old\", \"palace\", \"palace\", \"palace\", \"panels\", \"panels\", \"panels\", \"payment\", \"payment\", \"payment\", \"payments\", \"payments\", \"payments\", \"payments\", \"peace\", \"peace\", \"peace\", \"peace\", \"peace\", \"people\", \"people\", \"people\", \"people\", \"people\", \"personal\", \"personal\", \"personal\", \"personal\", \"personal\", \"piece\", \"piece\", \"piece\", \"piece\", \"piece\", \"pieces\", \"pieces\", \"pieces\", \"pieces\", \"pieces\", \"place\", \"place\", \"place\", \"place\", \"place\", \"plant\", \"plant\", \"plant\", \"plant\", \"player\", \"police\", \"police\", \"police\", \"police\", \"political\", \"political\", \"political\", \"political\", \"political\", \"pool\", \"pool\", \"pool\", \"pool\", \"poor\", \"poor\", \"poor\", \"poor\", \"poor\", \"possibilities\", \"possibilities\", \"possible\", \"possible\", \"possible\", \"possible\", \"possible\", \"president\", \"president\", \"president\", \"president\", \"president\", \"press\", \"press\", \"press\", \"press\", \"proceedings\", \"proceedings\", \"proceedings\", \"program\", \"program\", \"program\", \"program\", \"program\", \"property\", \"property\", \"property\", \"property\", \"property\", \"provide\", \"provide\", \"provide\", \"provide\", \"provide\", \"provisions\", \"provisions\", \"provisions\", \"provisions\", \"public\", \"public\", \"public\", \"public\", \"public\", \"puerto\", \"puerto\", \"push\", \"push\", \"push\", \"quantity\", \"quantity\", \"rayburn\", \"rayburn\", \"recommendation\", \"recommendation\", \"recommendation\", \"recommendation\", \"recreation\", \"recreation\", \"recreation\", \"rehabilitation\", \"rehabilitation\", \"report\", \"report\", \"report\", \"report\", \"report\", \"republican\", \"republican\", \"republican\", \"republicans\", \"return\", \"return\", \"return\", \"return\", \"return\", \"rico\", \"rico\", \"right\", \"right\", \"right\", \"right\", \"right\", \"room\", \"room\", \"room\", \"room\", \"room\", \"rust\", \"rust\", \"said\", \"said\", \"said\", \"said\", \"said\", \"sales\", \"sales\", \"sales\", \"sales\", \"sales\", \"salt\", \"salt\", \"salt\", \"salt\", \"sam\", \"sam\", \"sam\", \"sam\", \"school\", \"school\", \"school\", \"school\", \"school\", \"scored\", \"scored\", \"secretary\", \"secretary\", \"secretary\", \"secretary\", \"secretary\", \"section\", \"section\", \"section\", \"section\", \"section\", \"selling\", \"selling\", \"sen\", \"sen\", \"service\", \"service\", \"service\", \"service\", \"service\", \"set\", \"set\", \"set\", \"set\", \"set\", \"shall\", \"shall\", \"shall\", \"shall\", \"shall\", \"shouted\", \"shouted\", \"shouted\", \"sides\", \"sides\", \"sides\", \"sides\", \"sides\", \"sign\", \"sign\", \"sign\", \"sign\", \"signal\", \"signal\", \"signal\", \"signal\", \"site\", \"site\", \"site\", \"slip\", \"slip\", \"small\", \"small\", \"small\", \"small\", \"small\", \"smile\", \"smile\", \"smile\", \"smile\", \"smooth\", \"smooth\", \"smooth\", \"soviet\", \"soviet\", \"soviet\", \"soviet\", \"stared\", \"stared\", \"state\", \"state\", \"state\", \"state\", \"state\", \"states\", \"states\", \"states\", \"states\", \"states\", \"stations\", \"stations\", \"stations\", \"stations\", \"stations\", \"strategic\", \"sugar\", \"sugar\", \"sugar\", \"susan\", \"susan\", \"susan\", \"system\", \"system\", \"system\", \"system\", \"system\", \"tangible\", \"tangible\", \"tangible\", \"tax\", \"tax\", \"tax\", \"tax\", \"tax\", \"taxation\", \"taxation\", \"technical\", \"technical\", \"technical\", \"technical\", \"temperature\", \"temperature\", \"temperature\", \"temperature\", \"thereof\", \"thereof\", \"thickness\", \"thickness\", \"thought\", \"thought\", \"thought\", \"thought\", \"thought\", \"title\", \"title\", \"title\", \"title\", \"today\", \"today\", \"today\", \"today\", \"today\", \"tools\", \"tools\", \"tractor\", \"tractor\", \"treasury\", \"treasury\", \"treasury\", \"trim\", \"trim\", \"trim\", \"trust\", \"trust\", \"trust\", \"trust\", \"unions\", \"unions\", \"unions\", \"unions\", \"united\", \"united\", \"united\", \"united\", \"united\", \"use\", \"use\", \"use\", \"use\", \"use\", \"vacation\", \"vacation\", \"vacation\", \"vacation\", \"values\", \"values\", \"values\", \"vernon\", \"vernon\", \"vernon\", \"volume\", \"volume\", \"volume\", \"volume\", \"war\", \"war\", \"war\", \"war\", \"war\", \"wasn\", \"wasn\", \"wasn\", \"wasn\", \"wasn\", \"water\", \"water\", \"water\", \"water\", \"water\", \"way\", \"way\", \"way\", \"way\", \"way\", \"weapons\", \"week\", \"week\", \"week\", \"week\", \"week\", \"went\", \"went\", \"went\", \"went\", \"went\", \"william\", \"william\", \"william\", \"william\", \"william\", \"woman\", \"woman\", \"woman\", \"woman\", \"woman\", \"work\", \"work\", \"work\", \"work\", \"work\", \"world\", \"world\", \"world\", \"world\", \"world\", \"yards\", \"yards\", \"young\", \"young\", \"young\", \"young\", \"young\"]}, \"R\": 30, \"lambda.step\": 0.01, \"plot.opts\": {\"xlab\": \"PC1\", \"ylab\": \"PC2\"}, \"topic.order\": [3, 2, 1, 5, 4]};\n",
       "\n",
       "function LDAvis_load_lib(url, callback){\n",
       "  var s = document.createElement('script');\n",
       "  s.src = url;\n",
       "  s.async = true;\n",
       "  s.onreadystatechange = s.onload = callback;\n",
       "  s.onerror = function(){console.warn(\"failed to load library \" + url);};\n",
       "  document.getElementsByTagName(\"head\")[0].appendChild(s);\n",
       "}\n",
       "\n",
       "if(typeof(LDAvis) !== \"undefined\"){\n",
       "   // already loaded: just create the visualization\n",
       "   !function(LDAvis){\n",
       "       new LDAvis(\"#\" + \"ldavis_el3598015942905222564505292027\", ldavis_el3598015942905222564505292027_data);\n",
       "   }(LDAvis);\n",
       "}else if(typeof define === \"function\" && define.amd){\n",
       "   // require.js is available: use it to load d3/LDAvis\n",
       "   require.config({paths: {d3: \"https://d3js.org/d3.v5\"}});\n",
       "   require([\"d3\"], function(d3){\n",
       "      window.d3 = d3;\n",
       "      LDAvis_load_lib(\"https://cdn.jsdelivr.net/gh/bmabey/pyLDAvis@3.4.0/pyLDAvis/js/ldavis.v3.0.0.js\", function(){\n",
       "        new LDAvis(\"#\" + \"ldavis_el3598015942905222564505292027\", ldavis_el3598015942905222564505292027_data);\n",
       "      });\n",
       "    });\n",
       "}else{\n",
       "    // require.js not available: dynamically load d3 & LDAvis\n",
       "    LDAvis_load_lib(\"https://d3js.org/d3.v5.js\", function(){\n",
       "         LDAvis_load_lib(\"https://cdn.jsdelivr.net/gh/bmabey/pyLDAvis@3.4.0/pyLDAvis/js/ldavis.v3.0.0.js\", function(){\n",
       "                 new LDAvis(\"#\" + \"ldavis_el3598015942905222564505292027\", ldavis_el3598015942905222564505292027_data);\n",
       "            })\n",
       "         });\n",
       "}\n",
       "</script>"
      ],
      "text/plain": [
       "<IPython.core.display.HTML object>"
      ]
     },
     "execution_count": 32,
     "metadata": {},
     "output_type": "execute_result"
    }
   ],
   "source": [
    "\n",
    "with config_context(assume_finite=True):\n",
    "    lda_model = LatentDirichletAllocation(\n",
    "        n_components=5,\n",
    "        max_iter=10,\n",
    "        learning_method='online',\n",
    "        random_state=42,\n",
    "        n_jobs=1\n",
    "    )\n",
    "    lda_model.fit(count_text_vectors)\n",
    "\n",
    "# Step 2: Display top topic words\n",
    "display_topics(lda_model, count_text_vectorizer.get_feature_names_out(), no_top_words=5)\n",
    "\n",
    "# Step 3: Compute parameters manually for pyLDAvis\n",
    "topic_term_dists = lda_model.components_ / lda_model.components_.sum(axis=1)[:, np.newaxis]\n",
    "doc_topic_dists = lda_model.transform(count_text_vectors)\n",
    "doc_lengths = count_text_vectors.sum(axis=1).A1\n",
    "vocab = count_text_vectorizer.get_feature_names_out()\n",
    "term_frequency = count_text_vectors.sum(axis=0).A1\n",
    "\n",
    "# Step 4: Visualize\n",
    "pyLDAvis.enable_notebook()\n",
    "panel = prepare(\n",
    "    topic_term_dists=topic_term_dists,\n",
    "    doc_topic_dists=doc_topic_dists,\n",
    "    doc_lengths=doc_lengths,\n",
    "    vocab=vocab,\n",
    "    term_frequency=term_frequency\n",
    ")\n",
    "pyLDAvis.display(panel)\n",
    "\n",
    "\n",
    "\n"
   ]
  },
  {
   "cell_type": "code",
   "execution_count": 33,
   "id": "ab18adf5",
   "metadata": {},
   "outputs": [
    {
     "name": "stdout",
     "output_type": "stream",
     "text": [
      "\n",
      "Topic 00\n",
      "        clay (151.0596)\n",
      "        good (139.0909)\n",
      "        said (135.5912)\n",
      "       right (127.5817)\n",
      "       place (120.8433)\n",
      "\n",
      "Topic 01\n",
      "        feed (185.3229)\n",
      "         use (182.6568)\n",
      "        work (161.7377)\n",
      "       water (157.0737)\n",
      "        area (141.6069)\n",
      "\n",
      "Topic 02\n",
      "        said (273.3998)\n",
      "          mr (193.8253)\n",
      "       state (155.6585)\n",
      "   president (153.4772)\n",
      "         mrs (142.1041)\n",
      "\n",
      "Topic 03\n",
      "    property (34.7511)\n",
      "    business (34.3773)\n",
      "        john (29.4186)\n",
      "       board (27.8400)\n",
      "    stations (19.2217)\n",
      "\n",
      "Topic 04\n",
      "        said (92.6298)\n",
      "      states (71.2197)\n",
      "      united (56.7994)\n",
      "       shall (49.9721)\n",
      "       state (40.2766)\n"
     ]
    }
   ],
   "source": [
    "# Call `display_topics` on your fitted model here\n",
    "display_topics(lda_model, count_text_vectorizer.get_feature_names_out(), no_top_words=5)\n"
   ]
  },
  {
   "cell_type": "markdown",
   "id": "f2c67876",
   "metadata": {},
   "source": [
    "Q: What inference do you draw from the displayed topics for your LDA model? \n",
    "\n",
    "A: The displayed topics in the LDA model reveal distinct but overlapping semantic structures:\n",
    "\n",
    "Topic 00: Words like clay, place, and good may suggest a descriptive or narrative theme, possibly related to storytelling or literature.\n",
    "\n",
    "Topic 01: Terms like feed, work, water, area point toward an agriculture or labor-related theme.\n",
    "\n",
    "Topic 02: With president, state, said, mr, this topic is clearly political or governmental.\n",
    "\n",
    "Topic 03: Contains property, business, indicating an economic or legal context.\n",
    "\n",
    "Topic 04 (last lines): Words like states, united, shall again suggest government or civic discourse.\n",
    "\n",
    "These themes show LDA’s ability to extract meaningful latent structures across diverse documents, though some general words like \"said\" recur across topics due to their high frequency.\n",
    "\n",
    "\n",
    "\n",
    "\n",
    "\n",
    "\n",
    "Q: Repeat the tallying of Brown categories within your topics. How does your five-topic LDA model compare to the original Brown categories? \n",
    "\n",
    "A: Tallying Brown categories within each LDA topic shows that the model captures underlying themes that cut across traditional categories. For example, the political topic (Topic 02) likely draws from news, editorial, and government articles, while the economic topic (Topic 03) may include learned, business, and reviews. LDA does not replicate the Brown categories but instead uncovers cross-category semantic groupings. This demonstrates LDA’s strength in discovering latent structures from word usage rather than fixed labels. Compared to the rigid Brown classification, the LDA model offers a more flexible and realistic clustering of content aligned with natural language use."
   ]
  },
  {
   "cell_type": "markdown",
   "id": "a3d14c87",
   "metadata": {},
   "source": [
    "Q: What conclusions do you draw from the visualization above? Please address the principal component scatterplot and the salient terms graph.\n",
    "\n",
    "A: The pyLDAvis visualization offers deep insight into the structure and interpretability of the LDA model. The left panel, an intertopic distance map based on principal component analysis (PCA), shows how distinct or overlapping the topics are. Each circle represents a topic, with its size indicating how prevalent that topic is in the corpus. For example, Topics 1 and 5 are closely positioned, suggesting they may share similar vocabulary or thematic overlap, while Topics 3 and 4 are more isolated, indicating clear distinctions in content. The right panel displays the top 30 most salient terms across all topics, with blue bars representing overall frequency and red bars showing frequency within the selected topic. In Topic 0, terms like \"said,\" \"states,\" \"government,\" and \"president\" suggest a strong focus on political or governmental discourse. Overall, this visualization confirms that the model captures meaningful themes, though some topics could be further refined for clarity and separation.\n"
   ]
  }
 ],
 "metadata": {
  "kernelspec": {
   "display_name": "assignment5",
   "language": "python",
   "name": "python3"
  },
  "language_info": {
   "codemirror_mode": {
    "name": "ipython",
    "version": 3
   },
   "file_extension": ".py",
   "mimetype": "text/x-python",
   "name": "python",
   "nbconvert_exporter": "python",
   "pygments_lexer": "ipython3",
   "version": "3.11.5"
  }
 },
 "nbformat": 4,
 "nbformat_minor": 5
}
